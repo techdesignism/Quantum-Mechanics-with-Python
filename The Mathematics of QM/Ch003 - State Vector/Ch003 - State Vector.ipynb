{
 "cells": [
  {
   "cell_type": "markdown",
   "id": "eb69543a",
   "metadata": {},
   "source": [
    "# Ch003 - State Vector"
   ]
  },
  {
   "cell_type": "markdown",
   "id": "dab21c61",
   "metadata": {},
   "source": [
    "# Quantum state\n",
    "\n",
    "In quantum physics, a quantum state is a mathematical entity that embodies the knowledge of a quantum system. Quantum mechanics specifies the construction, evolution, and measurement of a quantum state. The result is a quantum mechanical prediction for the system represented by the state. Knowledge of the quantum state together with the quantum mechanical rules for the system's evolution in time exhausts all that can be known about a quantum system.\n",
    "\n",
    "The first postulate of quantum mechanics states that a system is represented by a state vector. Operations with vectors are therefore fundamental to quantum mechanical calculations. Three types of multiplication are possible with vectors. This problem addresses the scalar multiplication of a vector. Vector-vector, operator-vector, and vector operator multiplication are the other types of vector multiplication that we will encounter. To multiply a vector by a scalar, multiply each component of the vector by the scalar. A scalar times a vector is another vector. "
   ]
  },
  {
   "cell_type": "markdown",
   "id": "b41ad168",
   "metadata": {},
   "source": [
    "# Bra–ket notation (Dirac notation)\n",
    "\n",
    "Bra:\n",
    "\n",
    "$\n",
    "\\langle v |\n",
    "$\n",
    "\n",
    "Ket:\n",
    "\n",
    "$\n",
    "|v\\rangle\n",
    "$\n",
    "\n",
    "Bra–ket notation, or Dirac notation, is a notation for linear algebra and linear operators on complex vector spaces together with their dual space both in the finite-dimensional and infinite-dimensional case. It is specifically designed to ease the types of calculations that frequently come up in quantum mechanics. Its use in quantum mechanics is quite widespread.\n",
    "\n",
    "$\n",
    "a|v\\rangle = a\n",
    "\\begin{align}\n",
    "\\begin{bmatrix} \n",
    "b \\\\\n",
    "c \\\\ \n",
    "d \n",
    "\\end{bmatrix}\n",
    "\\end{align}\n",
    "$=$\n",
    "\\begin{align}\n",
    "\\begin{bmatrix} \n",
    "ab \\\\\n",
    "ac \\\\ \n",
    "ad \n",
    "\\end{bmatrix}\n",
    "\\end{align}\n",
    "$\n"
   ]
  },
  {
   "cell_type": "markdown",
   "id": "37a16a1e",
   "metadata": {},
   "source": [
    "If $a = 3+4i$ and $|v\\rangle = \n",
    "\\begin{align}\n",
    "\\begin{bmatrix} \n",
    "2+i \\\\\n",
    "1-3i \\\\ \n",
    "3-2i \n",
    "\\end{bmatrix}\n",
    "\\end{align}\n",
    "$, find $ a|v\\rangle$\n",
    "\n"
   ]
  },
  {
   "cell_type": "code",
   "execution_count": 1,
   "id": "a77f3292",
   "metadata": {},
   "outputs": [],
   "source": [
    "from sympy import *\n",
    "#import the libraries of sympy\n",
    "\n",
    "a = 3+4*I\n",
    "\n",
    "b = Matrix([2+I,1-3*I,3-2*I])"
   ]
  },
  {
   "cell_type": "code",
   "execution_count": 2,
   "id": "88f11dee",
   "metadata": {},
   "outputs": [
    {
     "data": {
      "text/latex": [
       "$\\displaystyle 3 + 4 i$"
      ],
      "text/plain": [
       "3 + 4*I"
      ]
     },
     "execution_count": 2,
     "metadata": {},
     "output_type": "execute_result"
    }
   ],
   "source": [
    "a"
   ]
  },
  {
   "cell_type": "code",
   "execution_count": 3,
   "id": "df855703",
   "metadata": {},
   "outputs": [
    {
     "data": {
      "text/latex": [
       "$\\displaystyle \\left[\\begin{matrix}2 + i\\\\1 - 3 i\\\\3 - 2 i\\end{matrix}\\right]$"
      ],
      "text/plain": [
       "Matrix([\n",
       "[  2 + I],\n",
       "[1 - 3*I],\n",
       "[3 - 2*I]])"
      ]
     },
     "execution_count": 3,
     "metadata": {},
     "output_type": "execute_result"
    }
   ],
   "source": [
    "b"
   ]
  },
  {
   "cell_type": "code",
   "execution_count": 4,
   "id": "47b45ebb",
   "metadata": {},
   "outputs": [
    {
     "data": {
      "text/latex": [
       "$\\displaystyle \\left[\\begin{matrix}\\left(2 + i\\right) \\left(3 + 4 i\\right)\\\\\\left(1 - 3 i\\right) \\left(3 + 4 i\\right)\\\\\\left(3 - 2 i\\right) \\left(3 + 4 i\\right)\\end{matrix}\\right]$"
      ],
      "text/plain": [
       "Matrix([\n",
       "[  (2 + I)*(3 + 4*I)],\n",
       "[(1 - 3*I)*(3 + 4*I)],\n",
       "[(3 - 2*I)*(3 + 4*I)]])"
      ]
     },
     "execution_count": 4,
     "metadata": {},
     "output_type": "execute_result"
    }
   ],
   "source": [
    "a*b"
   ]
  },
  {
   "cell_type": "code",
   "execution_count": 5,
   "id": "0c9d0a53",
   "metadata": {},
   "outputs": [
    {
     "data": {
      "text/latex": [
       "$\\displaystyle \\left[\\begin{matrix}2.0 + 11.0 i\\\\15.0 - 5.0 i\\\\17.0 + 6.0 i\\end{matrix}\\right]$"
      ],
      "text/plain": [
       "Matrix([\n",
       "[2.0 + 11.0*I],\n",
       "[15.0 - 5.0*I],\n",
       "[17.0 + 6.0*I]])"
      ]
     },
     "execution_count": 5,
     "metadata": {},
     "output_type": "execute_result"
    }
   ],
   "source": [
    "(a*b).evalf()"
   ]
  },
  {
   "cell_type": "markdown",
   "id": "182a6c15",
   "metadata": {},
   "source": [
    "# Matrix\n",
    "\n",
    "An operator or a matrix operator contains the same information as a differential operator. Dirac demonstrated the equivalence of the Schrodinger differential equation and Heisenberg matrix formulations of quantum mechanics. Both types of operators have advantages in given circumstances, though you will see more matrix operators than differential operators because matrix operators provide clarity to the eigenvalue/eigenvector problem and favour the economy contained in Dirac notation. \n",
    "\n",
    "To multiply a matrix operator by a scalar, multiply each element of the operator by the scalar. A scalar times an operator is another operator.\n",
    "\n",
    "$\n",
    "A = \\begin{align}\n",
    "\\begin{bmatrix} \n",
    "b&c&d \\\\\n",
    "f&g&h \\\\\n",
    "k&m&n\n",
    "\\end{bmatrix}\n",
    "\\end{align}\n",
    "$\n",
    "\n",
    "$\n",
    "aA = a\n",
    "\\begin{align}\n",
    "\\begin{bmatrix} \n",
    "b&c&d \\\\\n",
    "f&g&h \\\\\n",
    "k&m&n\n",
    "\\end{bmatrix}\n",
    "\\end{align}\n",
    "= $$  \n",
    "\\begin{align}\n",
    "\\begin{bmatrix} \n",
    "ab&ac&ad \\\\\n",
    "af&ag&ah \\\\\n",
    "ak&am&an\n",
    "\\end{bmatrix}\n",
    "\\end{align}\n",
    "$\n",
    "\n",
    "If $a = 2i$, and B = $\n",
    "\\begin{align}\n",
    "\\begin{bmatrix} \n",
    "-2-2i&3-i&1+i \\\\\n",
    "-3+2i&-2+i&3-i\\\\\n",
    "-2i&-3-3i&4\n",
    "\\end{bmatrix}\n",
    "\\end{align}\n",
    "$, find aB"
   ]
  },
  {
   "cell_type": "code",
   "execution_count": 6,
   "id": "9a4eb212",
   "metadata": {},
   "outputs": [],
   "source": [
    "a = 2*I\n",
    "B = Matrix([\n",
    "    [-2-2*I, 3-I, 1+I],\n",
    "    [-3+2*I, -2+I, 3-I],\n",
    "    [-2*I, -3-3*I, 4]\n",
    "])"
   ]
  },
  {
   "cell_type": "code",
   "execution_count": 7,
   "id": "cc71201c",
   "metadata": {},
   "outputs": [
    {
     "data": {
      "text/latex": [
       "$\\displaystyle 2 i$"
      ],
      "text/plain": [
       "2*I"
      ]
     },
     "execution_count": 7,
     "metadata": {},
     "output_type": "execute_result"
    }
   ],
   "source": [
    "a"
   ]
  },
  {
   "cell_type": "code",
   "execution_count": 8,
   "id": "beed7ae9",
   "metadata": {},
   "outputs": [
    {
     "data": {
      "text/latex": [
       "$\\displaystyle \\left[\\begin{matrix}-2 - 2 i & 3 - i & 1 + i\\\\-3 + 2 i & -2 + i & 3 - i\\\\- 2 i & -3 - 3 i & 4\\end{matrix}\\right]$"
      ],
      "text/plain": [
       "Matrix([\n",
       "[-2 - 2*I,    3 - I, 1 + I],\n",
       "[-3 + 2*I,   -2 + I, 3 - I],\n",
       "[    -2*I, -3 - 3*I,     4]])"
      ]
     },
     "execution_count": 8,
     "metadata": {},
     "output_type": "execute_result"
    }
   ],
   "source": [
    "B"
   ]
  },
  {
   "cell_type": "code",
   "execution_count": 9,
   "id": "d3a9c8b2",
   "metadata": {},
   "outputs": [
    {
     "data": {
      "text/latex": [
       "$\\displaystyle \\left[\\begin{matrix}4.0 - 4.0 i & 2.0 + 6.0 i & -2.0 + 2.0 i\\\\-4.0 - 6.0 i & -2.0 - 4.0 i & 2.0 + 6.0 i\\\\4.0 & 6.0 - 6.0 i & 8.0 i\\end{matrix}\\right]$"
      ],
      "text/plain": [
       "Matrix([\n",
       "[ 4.0 - 4.0*I,  2.0 + 6.0*I, -2.0 + 2.0*I],\n",
       "[-4.0 - 6.0*I, -2.0 - 4.0*I,  2.0 + 6.0*I],\n",
       "[         4.0,  6.0 - 6.0*I,        8.0*I]])"
      ]
     },
     "execution_count": 9,
     "metadata": {},
     "output_type": "execute_result"
    }
   ],
   "source": [
    "(a*B).evalf()"
   ]
  },
  {
   "cell_type": "markdown",
   "id": "c0143f69",
   "metadata": {},
   "source": [
    "# Add or subtract two vectors\n",
    "\n",
    "Add or subtract two vectors by adding or subtracting corresponding components. Symbolically,\n",
    "\n",
    "$|a\\rangle = \n",
    "\\begin{align}\n",
    "\\begin{bmatrix} \n",
    "a_1 \\\\\n",
    "a_2 \\\\ \n",
    "a_3 \n",
    "\\end{bmatrix}\n",
    "\\end{align}\n",
    "$\n",
    "\n",
    "$|b\\rangle = \n",
    "\\begin{align}\n",
    "\\begin{bmatrix} \n",
    "b_1 \\\\\n",
    "b_2 \\\\ \n",
    "b_3 \n",
    "\\end{bmatrix}\n",
    "\\end{align}\n",
    "$\n",
    "\n",
    "$\n",
    "|a\\rangle \\pm |b\\rangle =\n",
    "\\begin{align}\n",
    "\\begin{bmatrix} \n",
    "a_1 \\\\\n",
    "a_2 \\\\ \n",
    "a_3 \n",
    "\\end{bmatrix}\n",
    "\\end{align}\\pm$$\n",
    "\\begin{align}\n",
    "\\begin{bmatrix} \n",
    "b_1 \\\\\n",
    "b_2 \\\\ \n",
    "b_3 \n",
    "\\end{bmatrix}\n",
    "\\end{align}\n",
    "$=$\n",
    "\\begin{align}\n",
    "\\begin{bmatrix} \n",
    "a_1\\pm b_1 \\\\\n",
    "a_2\\pm b_2 \\\\ \n",
    "a_3\\pm b_3 \n",
    "\\end{bmatrix}\n",
    "\\end{align}\n",
    "$\n"
   ]
  },
  {
   "cell_type": "markdown",
   "id": "e821870f",
   "metadata": {},
   "source": [
    "If $ |v\\rangle$ = \n",
    "$\n",
    "\\begin{align}\n",
    "\\begin{bmatrix} \n",
    "2+i\\\\\n",
    "1-3i\\\\\n",
    "3-2i\n",
    "\\end{bmatrix}\n",
    "\\end{align}\n",
    "$\n",
    " and \n",
    "$ |w\\rangle = \n",
    "\\begin{align}\n",
    "\\begin{bmatrix} \n",
    "-1-2i\\\\\n",
    "-2-2i\\\\\n",
    "1+i\n",
    "\\end{bmatrix}\n",
    "\\end{align}\n",
    "$ , \n",
    "\n",
    "find $|v\\rangle + |w\\rangle$ and \n",
    "$|v\\rangle - |w\\rangle$ "
   ]
  },
  {
   "cell_type": "code",
   "execution_count": 10,
   "id": "2319c6ce",
   "metadata": {},
   "outputs": [
    {
     "data": {
      "text/latex": [
       "$\\displaystyle \\left[\\begin{matrix}2 + i\\\\1 - 3 i\\\\3 - 2 i\\end{matrix}\\right]$"
      ],
      "text/plain": [
       "Matrix([\n",
       "[  2 + I],\n",
       "[1 - 3*I],\n",
       "[3 - 2*I]])"
      ]
     },
     "execution_count": 10,
     "metadata": {},
     "output_type": "execute_result"
    }
   ],
   "source": [
    "v = Matrix([2+I,1-3*I,3-2*I])\n",
    "v"
   ]
  },
  {
   "cell_type": "code",
   "execution_count": 11,
   "id": "92ec186f",
   "metadata": {},
   "outputs": [
    {
     "data": {
      "text/latex": [
       "$\\displaystyle \\left[\\begin{matrix}-1 - 2 i\\\\-2 - 2 i\\\\1 + i\\end{matrix}\\right]$"
      ],
      "text/plain": [
       "Matrix([\n",
       "[-1 - 2*I],\n",
       "[-2 - 2*I],\n",
       "[   1 + I]])"
      ]
     },
     "execution_count": 11,
     "metadata": {},
     "output_type": "execute_result"
    }
   ],
   "source": [
    "w = Matrix([-1-2*I,-2-2*I,1+I])\n",
    "w"
   ]
  },
  {
   "cell_type": "code",
   "execution_count": 12,
   "id": "24dd4da8",
   "metadata": {},
   "outputs": [
    {
     "data": {
      "text/latex": [
       "$\\displaystyle \\left[\\begin{matrix}1 - i\\\\-1 - 5 i\\\\4 - i\\end{matrix}\\right]$"
      ],
      "text/plain": [
       "Matrix([\n",
       "[   1 - I],\n",
       "[-1 - 5*I],\n",
       "[   4 - I]])"
      ]
     },
     "execution_count": 12,
     "metadata": {},
     "output_type": "execute_result"
    }
   ],
   "source": [
    "v+w"
   ]
  },
  {
   "cell_type": "code",
   "execution_count": 13,
   "id": "01a7f2ea",
   "metadata": {},
   "outputs": [
    {
     "data": {
      "text/latex": [
       "$\\displaystyle \\left[\\begin{matrix}3 + 3 i\\\\3 - i\\\\2 - 3 i\\end{matrix}\\right]$"
      ],
      "text/plain": [
       "Matrix([\n",
       "[3 + 3*I],\n",
       "[  3 - I],\n",
       "[2 - 3*I]])"
      ]
     },
     "execution_count": 13,
     "metadata": {},
     "output_type": "execute_result"
    }
   ],
   "source": [
    "v-w"
   ]
  },
  {
   "cell_type": "markdown",
   "id": "bb80743a",
   "metadata": {},
   "source": [
    "Operators useful for quantum mechanical calculation are square matrices, i.e., they have the same number of elements in columns as in rows. Operator addition is undefined unless the operators have identical configurations. You cannot add a 2 X 2 matrix to a 3 X 3 matrix, for instance. The sum of two matrix operators is another matrix operator. The addition of a scalar and an operator, and the addition of a vector and an operator are undefined.\n",
    "\n",
    "$A = \n",
    "\\begin{align}\n",
    "\\begin{bmatrix} \n",
    "-4+2i & 2+i & -1-3i \\\\\n",
    "6 & 2+3i & -3i \\\\\n",
    "-3-i & 2-3i & -5\n",
    "\\end{bmatrix}\n",
    "\\end{align}\n",
    "$\n",
    "\n",
    "$B = \n",
    "\\begin{align}\n",
    "\\begin{bmatrix} \n",
    "-2-2i & 3-i & 1+i \\\\\n",
    "-3+2i & -2+i & 3-i \\\\\n",
    "-2i & -3-3i & 4\n",
    "\\end{bmatrix}\n",
    "\\end{align}\n",
    "$\n",
    "\n",
    "Find A+B and A-B"
   ]
  },
  {
   "cell_type": "code",
   "execution_count": 14,
   "id": "67608b58",
   "metadata": {},
   "outputs": [],
   "source": [
    "A = Matrix([\n",
    "    [-4+2*I, 2+I, -1-3*I],\n",
    "    [6, 2+3*I, -3*I],\n",
    "    [-3-I, 2-3*I, -5]\n",
    "])\n",
    "\n",
    "B = Matrix([\n",
    "    [-2-2*I, 3-I, 1+I],\n",
    "    [-3+2*I, -2+I, 3-I],\n",
    "    [-2*I, -3-3*I, 4]\n",
    "])"
   ]
  },
  {
   "cell_type": "code",
   "execution_count": 15,
   "id": "a746805e",
   "metadata": {},
   "outputs": [
    {
     "data": {
      "text/latex": [
       "$\\displaystyle \\left[\\begin{matrix}-4 + 2 i & 2 + i & -1 - 3 i\\\\6 & 2 + 3 i & - 3 i\\\\-3 - i & 2 - 3 i & -5\\end{matrix}\\right]$"
      ],
      "text/plain": [
       "Matrix([\n",
       "[-4 + 2*I,   2 + I, -1 - 3*I],\n",
       "[       6, 2 + 3*I,     -3*I],\n",
       "[  -3 - I, 2 - 3*I,       -5]])"
      ]
     },
     "execution_count": 15,
     "metadata": {},
     "output_type": "execute_result"
    }
   ],
   "source": [
    "A"
   ]
  },
  {
   "cell_type": "code",
   "execution_count": 16,
   "id": "99d443de",
   "metadata": {},
   "outputs": [
    {
     "data": {
      "text/latex": [
       "$\\displaystyle \\left[\\begin{matrix}-2 - 2 i & 3 - i & 1 + i\\\\-3 + 2 i & -2 + i & 3 - i\\\\- 2 i & -3 - 3 i & 4\\end{matrix}\\right]$"
      ],
      "text/plain": [
       "Matrix([\n",
       "[-2 - 2*I,    3 - I, 1 + I],\n",
       "[-3 + 2*I,   -2 + I, 3 - I],\n",
       "[    -2*I, -3 - 3*I,     4]])"
      ]
     },
     "execution_count": 16,
     "metadata": {},
     "output_type": "execute_result"
    }
   ],
   "source": [
    "B"
   ]
  },
  {
   "cell_type": "code",
   "execution_count": 17,
   "id": "26f69132",
   "metadata": {},
   "outputs": [
    {
     "data": {
      "text/latex": [
       "$\\displaystyle \\left[\\begin{matrix}-6 & 5 & - 2 i\\\\3 + 2 i & 4 i & 3 - 4 i\\\\-3 - 3 i & -1 - 6 i & -1\\end{matrix}\\right]$"
      ],
      "text/plain": [
       "Matrix([\n",
       "[      -6,        5,    -2*I],\n",
       "[ 3 + 2*I,      4*I, 3 - 4*I],\n",
       "[-3 - 3*I, -1 - 6*I,      -1]])"
      ]
     },
     "execution_count": 17,
     "metadata": {},
     "output_type": "execute_result"
    }
   ],
   "source": [
    "A+B"
   ]
  },
  {
   "cell_type": "code",
   "execution_count": 18,
   "id": "27924496",
   "metadata": {},
   "outputs": [
    {
     "data": {
      "text/latex": [
       "$\\displaystyle \\left[\\begin{matrix}-2 + 4 i & -1 + 2 i & -2 - 4 i\\\\9 - 2 i & 4 + 2 i & -3 - 2 i\\\\-3 + i & 5 & -9\\end{matrix}\\right]$"
      ],
      "text/plain": [
       "Matrix([\n",
       "[-2 + 4*I, -1 + 2*I, -2 - 4*I],\n",
       "[ 9 - 2*I,  4 + 2*I, -3 - 2*I],\n",
       "[  -3 + I,        5,       -9]])"
      ]
     },
     "execution_count": 18,
     "metadata": {},
     "output_type": "execute_result"
    }
   ],
   "source": [
    "A-B"
   ]
  },
  {
   "cell_type": "markdown",
   "id": "d266120c",
   "metadata": {},
   "source": [
    "Dirac called a column vector a ket, denoted | u>, for instance. He called a row vector a bra and\n",
    "denoted it <u | , for example. The rationale behind these labels is explained in the next problem.\n",
    "A bra is “formed” from a ket by forming a row vector of the complex conjugates of the components\n",
    "of the column vector. There is a bra <u | whose components correspond to the complex conjugates\n",
    "for every ket | u> and a ket | u> whose components correspond to the complex conjugates for\n",
    "every bra <u | . For example, to the ket\n",
    "\n",
    "$|u \\rangle$=$\n",
    "\\begin{align}\n",
    "\\begin{bmatrix} \n",
    "2+5i \\\\\n",
    "7-3i \\\\ \n",
    "-4 \\\\\n",
    "6i\n",
    "\\end{bmatrix}\n",
    "\\end{align}\n",
    "$\n",
    "\n",
    "corresponds a bra $\\langle u|$=$\n",
    "\\begin{bmatrix} \n",
    "2-5i &\n",
    "7+3i & \n",
    "-4 &\n",
    "-6i\n",
    "\\end{bmatrix}\n",
    "$"
   ]
  },
  {
   "cell_type": "code",
   "execution_count": 19,
   "id": "f8a21a81",
   "metadata": {},
   "outputs": [
    {
     "data": {
      "text/latex": [
       "$\\displaystyle \\left[\\begin{matrix}2 + 5 i\\\\7 - 3 i\\\\-4\\\\6 i\\end{matrix}\\right]$"
      ],
      "text/plain": [
       "Matrix([\n",
       "[2 + 5*I],\n",
       "[7 - 3*I],\n",
       "[     -4],\n",
       "[    6*I]])"
      ]
     },
     "execution_count": 19,
     "metadata": {},
     "output_type": "execute_result"
    }
   ],
   "source": [
    "u_ket = Matrix([2+5*I,7-3*I,-4,6*I])\n",
    "u_ket"
   ]
  },
  {
   "cell_type": "code",
   "execution_count": 20,
   "id": "3b8b497a",
   "metadata": {},
   "outputs": [
    {
     "data": {
      "text/latex": [
       "$\\displaystyle \\left[\\begin{matrix}2 - 5 i & 7 + 3 i & -4 & - 6 i\\end{matrix}\\right]$"
      ],
      "text/plain": [
       "Matrix([[2 - 5*I, 7 + 3*I, -4, -6*I]])"
      ]
     },
     "execution_count": 20,
     "metadata": {},
     "output_type": "execute_result"
    }
   ],
   "source": [
    "u_bra = conjugate(u_ket.T)\n",
    "u_bra"
   ]
  },
  {
   "cell_type": "markdown",
   "id": "a9a66470",
   "metadata": {},
   "source": [
    "--------------"
   ]
  },
  {
   "cell_type": "code",
   "execution_count": 21,
   "id": "d07630c4",
   "metadata": {},
   "outputs": [
    {
     "data": {
      "text/latex": [
       "$\\displaystyle \\left[\\begin{matrix}-4 - 3 i & 8 i & -3\\end{matrix}\\right]$"
      ],
      "text/plain": [
       "Matrix([[-4 - 3*I, 8*I, -3]])"
      ]
     },
     "execution_count": 21,
     "metadata": {},
     "output_type": "execute_result"
    }
   ],
   "source": [
    "v_bra = Matrix([-4-3*I,8*I,-3]).T\n",
    "v_bra"
   ]
  },
  {
   "cell_type": "code",
   "execution_count": 22,
   "id": "bbeb02eb",
   "metadata": {},
   "outputs": [
    {
     "data": {
      "text/latex": [
       "$\\displaystyle \\left[\\begin{matrix}-4 + 3 i\\\\- 8 i\\\\-3\\end{matrix}\\right]$"
      ],
      "text/plain": [
       "Matrix([\n",
       "[-4 + 3*I],\n",
       "[    -8*I],\n",
       "[      -3]])"
      ]
     },
     "execution_count": 22,
     "metadata": {},
     "output_type": "execute_result"
    }
   ],
   "source": [
    "v_ket = conjugate(v_bra.T)\n",
    "v_ket"
   ]
  },
  {
   "cell_type": "markdown",
   "id": "ba42cf74",
   "metadata": {},
   "source": [
    "The state vectors of quantum mechanics are kets so kets are the more frequently encountered\n",
    "type of vector and we “form” the corresponding bra when it is needed. This practical procedure\n",
    "is technically incorrect. A technically correct picture is that the corresponding bra already exists\n",
    "among all other possible bras and we simply pick it from all other possible bras when it is needed.\n",
    "We will soon introduce the idea of Hilbert space, in which this technically correct concept is\n",
    "founded. There is no preference of kets over bras or bras over kets. You can form bras from kets\n",
    "or kets from bras as a practical matter, though we will have more occasion to form bras from kets\n",
    "because state vectors are kets.\n"
   ]
  },
  {
   "cell_type": "code",
   "execution_count": 23,
   "id": "9f63fcf3",
   "metadata": {},
   "outputs": [
    {
     "data": {
      "text/latex": [
       "$\\displaystyle \\left[\\begin{matrix}2 - i & 1 + 3 i & 3 + 2 i\\end{matrix}\\right]$"
      ],
      "text/plain": [
       "Matrix([[2 - I, 1 + 3*I, 3 + 2*I]])"
      ]
     },
     "execution_count": 23,
     "metadata": {},
     "output_type": "execute_result"
    }
   ],
   "source": [
    "v_bra = Matrix([2-I,1+3*I,3+2*I]).T\n",
    "v_bra"
   ]
  },
  {
   "cell_type": "code",
   "execution_count": 24,
   "id": "a745a3f1",
   "metadata": {},
   "outputs": [
    {
     "data": {
      "text/latex": [
       "$\\displaystyle \\left[\\begin{matrix}-1 + 2 i & -2 + 2 i & 1 - i\\end{matrix}\\right]$"
      ],
      "text/plain": [
       "Matrix([[-1 + 2*I, -2 + 2*I, 1 - I]])"
      ]
     },
     "execution_count": 24,
     "metadata": {},
     "output_type": "execute_result"
    }
   ],
   "source": [
    "w_bra = Matrix([-1+2*I, -2+2*I, 1-I]).T\n",
    "w_bra"
   ]
  },
  {
   "cell_type": "code",
   "execution_count": 25,
   "id": "0e685e2f",
   "metadata": {},
   "outputs": [
    {
     "data": {
      "text/latex": [
       "$\\displaystyle \\left[\\begin{matrix}1 + i & -1 + 5 i & 4 + i\\end{matrix}\\right]$"
      ],
      "text/plain": [
       "Matrix([[1 + I, -1 + 5*I, 4 + I]])"
      ]
     },
     "execution_count": 25,
     "metadata": {},
     "output_type": "execute_result"
    }
   ],
   "source": [
    "v_bra+w_bra"
   ]
  },
  {
   "cell_type": "code",
   "execution_count": 26,
   "id": "1a9f9af0",
   "metadata": {},
   "outputs": [
    {
     "data": {
      "text/latex": [
       "$\\displaystyle \\left[\\begin{matrix}3 - 3 i & 3 + i & 2 + 3 i\\end{matrix}\\right]$"
      ],
      "text/plain": [
       "Matrix([[3 - 3*I, 3 + I, 2 + 3*I]])"
      ]
     },
     "execution_count": 26,
     "metadata": {},
     "output_type": "execute_result"
    }
   ],
   "source": [
    "v_bra-w_bra"
   ]
  },
  {
   "cell_type": "code",
   "execution_count": 27,
   "id": "02df132d",
   "metadata": {},
   "outputs": [
    {
     "data": {
      "text/latex": [
       "$\\displaystyle \\left[\\begin{matrix}2 + i\\\\1 - 3 i\\\\3 - 2 i\\end{matrix}\\right]$"
      ],
      "text/plain": [
       "Matrix([\n",
       "[  2 + I],\n",
       "[1 - 3*I],\n",
       "[3 - 2*I]])"
      ]
     },
     "execution_count": 27,
     "metadata": {},
     "output_type": "execute_result"
    }
   ],
   "source": [
    "v_ket = conjugate(v_bra.T)\n",
    "v_ket"
   ]
  },
  {
   "cell_type": "code",
   "execution_count": 28,
   "id": "b907c21e",
   "metadata": {},
   "outputs": [
    {
     "data": {
      "text/latex": [
       "$\\displaystyle \\left[\\begin{matrix}-1 - 2 i\\\\-2 - 2 i\\\\1 + i\\end{matrix}\\right]$"
      ],
      "text/plain": [
       "Matrix([\n",
       "[-1 - 2*I],\n",
       "[-2 - 2*I],\n",
       "[   1 + I]])"
      ]
     },
     "execution_count": 28,
     "metadata": {},
     "output_type": "execute_result"
    }
   ],
   "source": [
    "w_ket = conjugate(w_bra.T)\n",
    "w_ket"
   ]
  },
  {
   "cell_type": "markdown",
   "id": "c66001cf",
   "metadata": {},
   "source": [
    "An expression with a bra on the left and a ket on the right is known as a bracket or braket. The inner product is the first example of a braket. One vertical slash serves to separate the bra and the ket for an inner product. \n",
    "\n",
    "\n",
    "$\\langle v|v \\rangle$="
   ]
  },
  {
   "cell_type": "code",
   "execution_count": 29,
   "id": "c13ac860",
   "metadata": {},
   "outputs": [
    {
     "data": {
      "text/latex": [
       "$\\displaystyle 28.0$"
      ],
      "text/plain": [
       "28.0000000000000"
      ]
     },
     "execution_count": 29,
     "metadata": {},
     "output_type": "execute_result"
    }
   ],
   "source": [
    "v_bra.dot( v_ket ).evalf()"
   ]
  },
  {
   "cell_type": "markdown",
   "id": "9cc67383",
   "metadata": {},
   "source": [
    "$\\langle w|w \\rangle$="
   ]
  },
  {
   "cell_type": "code",
   "execution_count": 30,
   "id": "1f3c451a",
   "metadata": {},
   "outputs": [
    {
     "data": {
      "text/latex": [
       "$\\displaystyle 15.0$"
      ],
      "text/plain": [
       "15.0000000000000"
      ]
     },
     "execution_count": 30,
     "metadata": {},
     "output_type": "execute_result"
    }
   ],
   "source": [
    "w_bra.dot( w_ket ).evalf()"
   ]
  },
  {
   "cell_type": "markdown",
   "id": "56f5338a",
   "metadata": {},
   "source": [
    "$\\langle v|w \\rangle$="
   ]
  },
  {
   "cell_type": "code",
   "execution_count": 31,
   "id": "302f3622",
   "metadata": {},
   "outputs": [
    {
     "data": {
      "text/latex": [
       "$\\displaystyle 1.0 - 6.0 i$"
      ],
      "text/plain": [
       "1.0 - 6.0*I"
      ]
     },
     "execution_count": 31,
     "metadata": {},
     "output_type": "execute_result"
    }
   ],
   "source": [
    "v_bra.dot( w_ket ).evalf()"
   ]
  },
  {
   "cell_type": "markdown",
   "id": "e5f20034",
   "metadata": {},
   "source": [
    "$\\langle w|v \\rangle$="
   ]
  },
  {
   "cell_type": "code",
   "execution_count": 32,
   "id": "ab29f58f",
   "metadata": {},
   "outputs": [
    {
     "data": {
      "text/latex": [
       "$\\displaystyle 1.0 + 6.0 i$"
      ],
      "text/plain": [
       "1.0 + 6.0*I"
      ]
     },
     "execution_count": 32,
     "metadata": {},
     "output_type": "execute_result"
    }
   ],
   "source": [
    "w_bra.dot( v_ket ).evalf()"
   ]
  },
  {
   "cell_type": "markdown",
   "id": "c5cc07bf",
   "metadata": {},
   "source": [
    "# Normalization \n",
    "\n",
    "A vector of norm 1 is said to be normalized. The process of normalization is geometrically equivalent to adjusting the norm of the vector to unit “length” while preserving the “direction.” A vector is normalized by multiplying it by a scalar. The problem is to find this scale factor. \n",
    "\n",
    "![\"\"](images/normal.png)\n",
    "\n",
    "### Unit Vector\n",
    "\n",
    "A vector with magnitude 1 is called a Unit Vector.\n",
    "\n",
    "Symbolically, it is represented by a cap or hat (^).\n",
    "\n",
    "If a is vector of arbitrary length and its magnitude is ||a||, then the unit vector is given by:\n",
    "\n",
    "$\\hat{a} = \\frac{a}{|a|}$"
   ]
  },
  {
   "cell_type": "code",
   "execution_count": 33,
   "id": "a6a178f2",
   "metadata": {},
   "outputs": [
    {
     "data": {
      "text/latex": [
       "$\\displaystyle \\left[\\begin{matrix}\\frac{\\sqrt{7} \\cdot \\left(2 + i\\right)}{14}\\\\\\frac{\\sqrt{7} \\cdot \\left(1 - 3 i\\right)}{14}\\\\\\frac{\\sqrt{7} \\cdot \\left(3 - 2 i\\right)}{14}\\end{matrix}\\right]$"
      ],
      "text/plain": [
       "Matrix([\n",
       "[  sqrt(7)*(2 + I)/14],\n",
       "[sqrt(7)*(1 - 3*I)/14],\n",
       "[sqrt(7)*(3 - 2*I)/14]])"
      ]
     },
     "execution_count": 33,
     "metadata": {},
     "output_type": "execute_result"
    }
   ],
   "source": [
    "normalized_v_ket = (v_ket/v_ket.norm())\n",
    "normalized_v_ket"
   ]
  },
  {
   "cell_type": "code",
   "execution_count": 34,
   "id": "6931f22f",
   "metadata": {},
   "outputs": [
    {
     "data": {
      "text/latex": [
       "$\\displaystyle 1$"
      ],
      "text/plain": [
       "1"
      ]
     },
     "execution_count": 34,
     "metadata": {},
     "output_type": "execute_result"
    }
   ],
   "source": [
    "normalized_v_ket.norm()"
   ]
  },
  {
   "cell_type": "markdown",
   "id": "a37e6d34",
   "metadata": {},
   "source": [
    "### Normalization Condition\n",
    "\n",
    "The normalization condition (in quantum mechanics) is < v | v > = 1. If < v | v > ≠ 1, it is wise to normalize it before attempting further calculations."
   ]
  },
  {
   "cell_type": "markdown",
   "id": "3b14230d",
   "metadata": {},
   "source": [
    "# Solving Linear Equations Using Matrix\n",
    "\n",
    "\n",
    "Let the equations be:\n",
    "$\n",
    "a_1x+a_2y+a_3z=d_1 \\\\\n",
    "b_1x+b_2y+b_3z=d_2 \\\\\n",
    "c_1x+c_2y+c_3z=d_3 \\\\\n",
    "$\n",
    "\n",
    "We can write the above equations in the matrix form as follows:\n",
    "\n",
    "$\n",
    "\\begin{align}\n",
    "\\begin{bmatrix} \n",
    "a_1x+a_2y+a_3z \\\\\n",
    "b_1x+b_2y+b_3z \\\\\n",
    "c_1x+c_2y+c_3z \\\\\n",
    "\\end{bmatrix}\n",
    "\\end{align}\n",
    "$=$\n",
    "\\begin{align}\n",
    "\\begin{bmatrix} \n",
    "d_1\\\\\n",
    "d_2\\\\\n",
    "d_3\\\\\n",
    "\\end{bmatrix}\n",
    "\\end{align}\n",
    "$ $\n",
    "\\Rightarrow\n",
    "$ $\n",
    "\\begin{align}\n",
    "\\begin{bmatrix} \n",
    "a_1&a_2&a_3 \\\\\n",
    "b_1&b_2&b_3 \\\\\n",
    "c_1&c_2&c_3 \\\\\n",
    "\\end{bmatrix}\n",
    "\\end{align}\n",
    "$ $\n",
    "\\begin{align}\n",
    "\\begin{bmatrix} \n",
    "x\\\\\n",
    "y\\\\\n",
    "z\\\\\n",
    "\\end{bmatrix}\n",
    "\\end{align}\n",
    "$=$\n",
    "\\begin{align}\n",
    "\\begin{bmatrix} \n",
    "d_1\\\\\n",
    "d_2\\\\\n",
    "d_3\\\\\n",
    "\\end{bmatrix}\n",
    "\\end{align}\n",
    "$\n",
    "\n",
    "\n",
    "$\\Rightarrow$ $\n",
    "AX=B\n",
    "$\n",
    "\n",
    "$A = \n",
    "\\begin{align}\n",
    "\\begin{bmatrix} \n",
    "a_1&a_2&a_3 \\\\\n",
    "b_1&b_2&b_3 \\\\\n",
    "c_1&c_2&c_3 \\\\\n",
    "\\end{bmatrix}\n",
    "\\end{align}\n",
    "$,$\n",
    "X = \n",
    "\\begin{align}\n",
    "\\begin{bmatrix} \n",
    "x\\\\\n",
    "y\\\\\n",
    "z\\\\\n",
    "\\end{bmatrix}\n",
    "\\end{align}\n",
    "$,$B = \n",
    "\\begin{align}\n",
    "\\begin{bmatrix} \n",
    "d_1\\\\\n",
    "d_2\\\\\n",
    "d_3\\\\\n",
    "\\end{bmatrix}\n",
    "\\end{align}\n",
    "$"
   ]
  },
  {
   "cell_type": "markdown",
   "id": "5ed82a33",
   "metadata": {},
   "source": [
    "----------------"
   ]
  },
  {
   "cell_type": "markdown",
   "id": "ca884eee",
   "metadata": {},
   "source": [
    "$AX=B \\\\\n",
    "A^{-1}AX=A^{-1}B \\\\\n",
    "IX=A^{-1}B \\\\\n",
    "X=A^{-1}B \\\\\n",
    "$\n",
    "\n",
    "----------------\n",
    "\n",
    "Example:\n",
    "\n",
    "\n",
    "3x-4y+9z = 20 \n",
    "\n",
    "-2x+6y-7z = 11 \n",
    "\n",
    "x-5y+2z = 5\n",
    "\n",
    "Find x, y, z\n"
   ]
  },
  {
   "cell_type": "code",
   "execution_count": 35,
   "id": "aaac5844",
   "metadata": {},
   "outputs": [
    {
     "data": {
      "text/latex": [
       "$\\displaystyle \\left[\\begin{matrix}3 & -4 & 9\\\\-2 & 6 & -7\\\\1 & -5 & 2\\end{matrix}\\right]$"
      ],
      "text/plain": [
       "Matrix([\n",
       "[ 3, -4,  9],\n",
       "[-2,  6, -7],\n",
       "[ 1, -5,  2]])"
      ]
     },
     "execution_count": 35,
     "metadata": {},
     "output_type": "execute_result"
    }
   ],
   "source": [
    "A = Matrix([\n",
    "    [3,-4,9],\n",
    "    [-2,6,-7],\n",
    "    [1,-5,2]\n",
    "])\n",
    "\n",
    "A"
   ]
  },
  {
   "cell_type": "code",
   "execution_count": 36,
   "id": "84f9d634",
   "metadata": {},
   "outputs": [
    {
     "data": {
      "text/latex": [
       "$\\displaystyle \\left[\\begin{matrix}20\\\\11\\\\5\\end{matrix}\\right]$"
      ],
      "text/plain": [
       "Matrix([\n",
       "[20],\n",
       "[11],\n",
       "[ 5]])"
      ]
     },
     "execution_count": 36,
     "metadata": {},
     "output_type": "execute_result"
    }
   ],
   "source": [
    "B = Matrix([ 20, 11, 5 ])\n",
    "B"
   ]
  },
  {
   "cell_type": "code",
   "execution_count": 37,
   "id": "9ef4a995",
   "metadata": {},
   "outputs": [
    {
     "data": {
      "text/latex": [
       "$\\displaystyle \\left[\\begin{matrix}\\frac{997}{21}\\\\\\frac{26}{7}\\\\- \\frac{251}{21}\\end{matrix}\\right]$"
      ],
      "text/plain": [
       "Matrix([\n",
       "[ 997/21],\n",
       "[   26/7],\n",
       "[-251/21]])"
      ]
     },
     "execution_count": 37,
     "metadata": {},
     "output_type": "execute_result"
    }
   ],
   "source": [
    "X = A.inv()*B\n",
    "X"
   ]
  },
  {
   "cell_type": "code",
   "execution_count": 38,
   "id": "441770fc",
   "metadata": {},
   "outputs": [
    {
     "data": {
      "text/latex": [
       "$\\displaystyle \\left[\\begin{matrix}20\\\\11\\\\5\\end{matrix}\\right]$"
      ],
      "text/plain": [
       "Matrix([\n",
       "[20],\n",
       "[11],\n",
       "[ 5]])"
      ]
     },
     "execution_count": 38,
     "metadata": {},
     "output_type": "execute_result"
    }
   ],
   "source": [
    "A*X"
   ]
  },
  {
   "cell_type": "markdown",
   "id": "d10c49d5",
   "metadata": {},
   "source": [
    "# Another method to solve a Matrix Equation"
   ]
  },
  {
   "cell_type": "code",
   "execution_count": 39,
   "id": "3b7ad943",
   "metadata": {},
   "outputs": [
    {
     "data": {
      "text/latex": [
       "$\\displaystyle \\left[\\begin{matrix}\\frac{997}{21}\\\\\\frac{26}{7}\\\\- \\frac{251}{21}\\end{matrix}\\right]$"
      ],
      "text/plain": [
       "Matrix([\n",
       "[ 997/21],\n",
       "[   26/7],\n",
       "[-251/21]])"
      ]
     },
     "execution_count": 39,
     "metadata": {},
     "output_type": "execute_result"
    }
   ],
   "source": [
    "X = A.solve(B)\n",
    "X"
   ]
  },
  {
   "cell_type": "code",
   "execution_count": 40,
   "id": "998663ec",
   "metadata": {},
   "outputs": [
    {
     "data": {
      "text/latex": [
       "$\\displaystyle \\left[\\begin{matrix}20\\\\11\\\\5\\end{matrix}\\right]$"
      ],
      "text/plain": [
       "Matrix([\n",
       "[20],\n",
       "[11],\n",
       "[ 5]])"
      ]
     },
     "execution_count": 40,
     "metadata": {},
     "output_type": "execute_result"
    }
   ],
   "source": [
    "A*X"
   ]
  },
  {
   "cell_type": "markdown",
   "id": "34815d10",
   "metadata": {},
   "source": [
    "# Linear Independence\n",
    "\n",
    "Sometimes the span of a set of vectors is “smaller” than you expect from the number of vectors, as in the picture below. This means that (at least) one of the vectors is redundant: it can be removed without affecting the span. In the present section, we formalize this idea in the notion of linear independence.\n",
    "\n",
    "![''](images/dfnrtfgj.png)\n",
    "\n",
    "Pictures of sets of vectors that are linearly dependent. Note that in each case, one vector is in the span of the others—so it doesn’t make the span bigger.\n",
    "\n",
    "![''](images/h4859h9485h.png)\n",
    "\n",
    "Otherwise, linearly dependent.\n"
   ]
  },
  {
   "cell_type": "markdown",
   "id": "65c9c877",
   "metadata": {},
   "source": [
    "### Example 1"
   ]
  },
  {
   "cell_type": "code",
   "execution_count": 64,
   "id": "d86d2577",
   "metadata": {},
   "outputs": [
    {
     "data": {
      "text/latex": [
       "$\\displaystyle \\left[\\begin{matrix}1\\\\2\\\\3\\end{matrix}\\right]$"
      ],
      "text/plain": [
       "Matrix([\n",
       "[1],\n",
       "[2],\n",
       "[3]])"
      ]
     },
     "execution_count": 64,
     "metadata": {},
     "output_type": "execute_result"
    }
   ],
   "source": [
    "u1 = Matrix([1,2,3])\n",
    "u1"
   ]
  },
  {
   "cell_type": "code",
   "execution_count": 65,
   "id": "6de68bea",
   "metadata": {},
   "outputs": [
    {
     "data": {
      "text/latex": [
       "$\\displaystyle \\left[\\begin{matrix}4\\\\5\\\\6\\end{matrix}\\right]$"
      ],
      "text/plain": [
       "Matrix([\n",
       "[4],\n",
       "[5],\n",
       "[6]])"
      ]
     },
     "execution_count": 65,
     "metadata": {},
     "output_type": "execute_result"
    }
   ],
   "source": [
    "u2 = Matrix([4,5,6])\n",
    "u2"
   ]
  },
  {
   "cell_type": "code",
   "execution_count": 66,
   "id": "7b2a812e",
   "metadata": {},
   "outputs": [
    {
     "data": {
      "text/latex": [
       "$\\displaystyle \\left[\\begin{matrix}2\\\\1\\\\0\\end{matrix}\\right]$"
      ],
      "text/plain": [
       "Matrix([\n",
       "[2],\n",
       "[1],\n",
       "[0]])"
      ]
     },
     "execution_count": 66,
     "metadata": {},
     "output_type": "execute_result"
    }
   ],
   "source": [
    "u3 = Matrix([2,1,0])\n",
    "u3"
   ]
  },
  {
   "cell_type": "markdown",
   "id": "d4ee025d",
   "metadata": {},
   "source": [
    "There are 3 vectors: u1, u2, u3.\n",
    "\n",
    "We can form a Matrix:"
   ]
  },
  {
   "cell_type": "code",
   "execution_count": 67,
   "id": "9ffc5a5d",
   "metadata": {},
   "outputs": [
    {
     "data": {
      "text/latex": [
       "$\\displaystyle \\left[\\begin{matrix}1 & 4 & 2\\\\2 & 5 & 1\\\\3 & 6 & 0\\end{matrix}\\right]$"
      ],
      "text/plain": [
       "Matrix([\n",
       "[1, 4, 2],\n",
       "[2, 5, 1],\n",
       "[3, 6, 0]])"
      ]
     },
     "execution_count": 67,
     "metadata": {},
     "output_type": "execute_result"
    }
   ],
   "source": [
    "A = Matrix( [u1.T,u2.T,u3.T] ).T\n",
    "A"
   ]
  },
  {
   "cell_type": "markdown",
   "id": "0b1d32f9",
   "metadata": {},
   "source": [
    "To figure out if the matrix is independent, we need to get the matrix into $\\textbf{reduced echelon form}$. If we get the Identity Matrix, then the matrix is Linearly Independent.\n",
    "\n",
    "https://en.wikipedia.org/wiki/Row_echelon_form#Reduced_row_echelon_form"
   ]
  },
  {
   "cell_type": "code",
   "execution_count": 68,
   "id": "6e9353c2",
   "metadata": {},
   "outputs": [
    {
     "data": {
      "text/latex": [
       "$\\displaystyle \\left[\\begin{matrix}1 & 0 & -2\\\\0 & 1 & 1\\\\0 & 0 & 0\\end{matrix}\\right]$"
      ],
      "text/plain": [
       "Matrix([\n",
       "[1, 0, -2],\n",
       "[0, 1,  1],\n",
       "[0, 0,  0]])"
      ]
     },
     "execution_count": 68,
     "metadata": {},
     "output_type": "execute_result"
    }
   ],
   "source": [
    "M = A.rref()[0]\n",
    "M"
   ]
  },
  {
   "cell_type": "code",
   "execution_count": 69,
   "id": "0ce83226",
   "metadata": {},
   "outputs": [
    {
     "data": {
      "text/latex": [
       "$\\displaystyle \\left[\\begin{matrix}1 & 0 & 0\\\\0 & 1 & 0\\\\0 & 0 & 1\\end{matrix}\\right]$"
      ],
      "text/plain": [
       "Matrix([\n",
       "[1, 0, 0],\n",
       "[0, 1, 0],\n",
       "[0, 0, 1]])"
      ]
     },
     "execution_count": 69,
     "metadata": {},
     "output_type": "execute_result"
    }
   ],
   "source": [
    "eye( *M.shape )"
   ]
  },
  {
   "cell_type": "code",
   "execution_count": 70,
   "id": "a8a6224d",
   "metadata": {},
   "outputs": [
    {
     "data": {
      "text/plain": [
       "False"
      ]
     },
     "execution_count": 70,
     "metadata": {},
     "output_type": "execute_result"
    }
   ],
   "source": [
    "M == eye( *M.shape )"
   ]
  },
  {
   "cell_type": "markdown",
   "id": "57ca6b29",
   "metadata": {},
   "source": [
    "If False, linearly dependent"
   ]
  },
  {
   "cell_type": "markdown",
   "id": "f80df1cf",
   "metadata": {},
   "source": [
    "### Example 2"
   ]
  },
  {
   "cell_type": "code",
   "execution_count": 71,
   "id": "53dd53f0",
   "metadata": {},
   "outputs": [
    {
     "data": {
      "text/latex": [
       "$\\displaystyle \\left[\\begin{matrix}0\\\\1\\\\5\\end{matrix}\\right]$"
      ],
      "text/plain": [
       "Matrix([\n",
       "[0],\n",
       "[1],\n",
       "[5]])"
      ]
     },
     "execution_count": 71,
     "metadata": {},
     "output_type": "execute_result"
    }
   ],
   "source": [
    "u1 = Matrix([0,1,5])\n",
    "u1"
   ]
  },
  {
   "cell_type": "code",
   "execution_count": 72,
   "id": "c29be2b6",
   "metadata": {},
   "outputs": [
    {
     "data": {
      "text/latex": [
       "$\\displaystyle \\left[\\begin{matrix}1\\\\2\\\\8\\end{matrix}\\right]$"
      ],
      "text/plain": [
       "Matrix([\n",
       "[1],\n",
       "[2],\n",
       "[8]])"
      ]
     },
     "execution_count": 72,
     "metadata": {},
     "output_type": "execute_result"
    }
   ],
   "source": [
    "u2 = Matrix([1,2,8])\n",
    "u2"
   ]
  },
  {
   "cell_type": "code",
   "execution_count": 73,
   "id": "7191a7fc",
   "metadata": {},
   "outputs": [
    {
     "data": {
      "text/latex": [
       "$\\displaystyle \\left[\\begin{matrix}4\\\\-1\\\\0\\end{matrix}\\right]$"
      ],
      "text/plain": [
       "Matrix([\n",
       "[ 4],\n",
       "[-1],\n",
       "[ 0]])"
      ]
     },
     "execution_count": 73,
     "metadata": {},
     "output_type": "execute_result"
    }
   ],
   "source": [
    "u3 = Matrix([4,-1,0])\n",
    "u3"
   ]
  },
  {
   "cell_type": "code",
   "execution_count": 74,
   "id": "15180bc4",
   "metadata": {},
   "outputs": [
    {
     "data": {
      "text/latex": [
       "$\\displaystyle \\left[\\begin{matrix}0 & 1 & 4\\\\1 & 2 & -1\\\\5 & 8 & 0\\end{matrix}\\right]$"
      ],
      "text/plain": [
       "Matrix([\n",
       "[0, 1,  4],\n",
       "[1, 2, -1],\n",
       "[5, 8,  0]])"
      ]
     },
     "execution_count": 74,
     "metadata": {},
     "output_type": "execute_result"
    }
   ],
   "source": [
    "A = Matrix( [u1.T,u2.T,u3.T] ).T\n",
    "A"
   ]
  },
  {
   "cell_type": "code",
   "execution_count": 75,
   "id": "062e878f",
   "metadata": {},
   "outputs": [
    {
     "data": {
      "text/latex": [
       "$\\displaystyle \\left[\\begin{matrix}1 & 0 & 0\\\\0 & 1 & 0\\\\0 & 0 & 1\\end{matrix}\\right]$"
      ],
      "text/plain": [
       "Matrix([\n",
       "[1, 0, 0],\n",
       "[0, 1, 0],\n",
       "[0, 0, 1]])"
      ]
     },
     "execution_count": 75,
     "metadata": {},
     "output_type": "execute_result"
    }
   ],
   "source": [
    "M = A.rref()[0]\n",
    "M"
   ]
  },
  {
   "cell_type": "code",
   "execution_count": 76,
   "id": "ef02ca62",
   "metadata": {},
   "outputs": [
    {
     "data": {
      "text/latex": [
       "$\\displaystyle \\left[\\begin{matrix}1 & 0 & 0\\\\0 & 1 & 0\\\\0 & 0 & 1\\end{matrix}\\right]$"
      ],
      "text/plain": [
       "Matrix([\n",
       "[1, 0, 0],\n",
       "[0, 1, 0],\n",
       "[0, 0, 1]])"
      ]
     },
     "execution_count": 76,
     "metadata": {},
     "output_type": "execute_result"
    }
   ],
   "source": [
    "eye( *M.shape )"
   ]
  },
  {
   "cell_type": "code",
   "execution_count": 77,
   "id": "37848ae1",
   "metadata": {},
   "outputs": [
    {
     "data": {
      "text/plain": [
       "True"
      ]
     },
     "execution_count": 77,
     "metadata": {},
     "output_type": "execute_result"
    }
   ],
   "source": [
    "M == eye( *M.shape )"
   ]
  },
  {
   "cell_type": "markdown",
   "id": "0a017c1b",
   "metadata": {},
   "source": [
    "If True, linearly independent"
   ]
  },
  {
   "cell_type": "markdown",
   "id": "62868fee",
   "metadata": {},
   "source": [
    "### More Examples"
   ]
  },
  {
   "cell_type": "code",
   "execution_count": 98,
   "id": "38a428ef",
   "metadata": {},
   "outputs": [
    {
     "name": "stdout",
     "output_type": "stream",
     "text": [
      "linearly independent\n"
     ]
    },
    {
     "data": {
      "text/latex": [
       "$\\displaystyle \\left[\\begin{matrix}1 & 0\\\\0 & 1\\end{matrix}\\right]$"
      ],
      "text/plain": [
       "Matrix([\n",
       "[1, 0],\n",
       "[0, 1]])"
      ]
     },
     "execution_count": 98,
     "metadata": {},
     "output_type": "execute_result"
    }
   ],
   "source": [
    "u1 = Matrix([-1,4])\n",
    "u2 = Matrix([-2,-8])\n",
    "A = Matrix( [u1.T,u2.T] ).T\n",
    "M = A.rref()[0]\n",
    "\n",
    "if M == eye( *M.shape ):\n",
    "    print(\"linearly independent\")\n",
    "else:\n",
    "    print(\"linearly dependent\")\n",
    "M"
   ]
  },
  {
   "cell_type": "code",
   "execution_count": 100,
   "id": "cce75600",
   "metadata": {},
   "outputs": [
    {
     "name": "stdout",
     "output_type": "stream",
     "text": [
      "linearly dependent\n"
     ]
    },
    {
     "data": {
      "text/latex": [
       "$\\displaystyle \\left[\\begin{matrix}1 & -2\\\\0 & 0\\end{matrix}\\right]$"
      ],
      "text/plain": [
       "Matrix([\n",
       "[1, -2],\n",
       "[0,  0]])"
      ]
     },
     "execution_count": 100,
     "metadata": {},
     "output_type": "execute_result"
    }
   ],
   "source": [
    "u1 = Matrix([-1,4])\n",
    "u2 = Matrix([2,-8])\n",
    "A = Matrix( [u1.T,u2.T] ).T\n",
    "M = A.rref()[0]\n",
    "\n",
    "if M == eye( *M.shape ):\n",
    "    print(\"linearly independent\")\n",
    "else:\n",
    "    print(\"linearly dependent\")\n",
    "M"
   ]
  },
  {
   "cell_type": "code",
   "execution_count": 101,
   "id": "9c09a47b",
   "metadata": {},
   "outputs": [
    {
     "name": "stdout",
     "output_type": "stream",
     "text": [
      "linearly dependent\n"
     ]
    },
    {
     "data": {
      "text/latex": [
       "$\\displaystyle \\left[\\begin{matrix}1 & 0 & -1\\\\0 & 1 & 1\\\\0 & 0 & 0\\end{matrix}\\right]$"
      ],
      "text/plain": [
       "Matrix([\n",
       "[1, 0, -1],\n",
       "[0, 1,  1],\n",
       "[0, 0,  0]])"
      ]
     },
     "execution_count": 101,
     "metadata": {},
     "output_type": "execute_result"
    }
   ],
   "source": [
    "u1 = Matrix([1,0,1])\n",
    "u2 = Matrix([1,1,0])\n",
    "u3 = Matrix([0,1,-1])\n",
    "A = Matrix( [u1.T,u2.T,u3.T] ).T\n",
    "M = A.rref()[0]\n",
    "\n",
    "if M == eye( *M.shape ):\n",
    "    print(\"linearly independent\")\n",
    "else:\n",
    "    print(\"linearly dependent\")\n",
    "M"
   ]
  },
  {
   "cell_type": "code",
   "execution_count": 102,
   "id": "d260aeb7",
   "metadata": {},
   "outputs": [
    {
     "name": "stdout",
     "output_type": "stream",
     "text": [
      "linearly dependent\n"
     ]
    },
    {
     "data": {
      "text/latex": [
       "$\\displaystyle \\left[\\begin{matrix}1 & 0 & 2\\\\0 & 1 & 0\\end{matrix}\\right]$"
      ],
      "text/plain": [
       "Matrix([\n",
       "[1, 0, 2],\n",
       "[0, 1, 0]])"
      ]
     },
     "execution_count": 102,
     "metadata": {},
     "output_type": "execute_result"
    }
   ],
   "source": [
    "u1 = Matrix([1,2])\n",
    "u2 = Matrix([2,1])\n",
    "u3 = Matrix([2,4])\n",
    "A = Matrix( [u1.T,u2.T,u3.T] ).T\n",
    "M = A.rref()[0]\n",
    "\n",
    "if M == eye( *M.shape ):\n",
    "    print(\"linearly independent\")\n",
    "else:\n",
    "    print(\"linearly dependent\")\n",
    "M"
   ]
  },
  {
   "cell_type": "code",
   "execution_count": 103,
   "id": "0386d082",
   "metadata": {},
   "outputs": [
    {
     "name": "stdout",
     "output_type": "stream",
     "text": [
      "linearly dependent\n"
     ]
    },
    {
     "data": {
      "text/latex": [
       "$\\displaystyle \\left[\\begin{matrix}1 & -5\\\\0 & 0\\\\0 & 0\\end{matrix}\\right]$"
      ],
      "text/plain": [
       "Matrix([\n",
       "[1, -5],\n",
       "[0,  0],\n",
       "[0,  0]])"
      ]
     },
     "execution_count": 103,
     "metadata": {},
     "output_type": "execute_result"
    }
   ],
   "source": [
    "u1 = Matrix([-1,2,4])\n",
    "u2 = Matrix([5,-10,-20])\n",
    "A = Matrix( [u1.T,u2.T] ).T\n",
    "M = A.rref()[0]\n",
    "\n",
    "if M == eye( *M.shape ):\n",
    "    print(\"linearly independent\")\n",
    "else:\n",
    "    print(\"linearly dependent\")\n",
    "M"
   ]
  },
  {
   "cell_type": "code",
   "execution_count": 104,
   "id": "a230d496",
   "metadata": {},
   "outputs": [
    {
     "name": "stdout",
     "output_type": "stream",
     "text": [
      "linearly dependent\n"
     ]
    },
    {
     "data": {
      "text/latex": [
       "$\\displaystyle \\left[\\begin{matrix}1 & 0 & - \\frac{48}{19}\\\\0 & 1 & \\frac{17}{19}\\end{matrix}\\right]$"
      ],
      "text/plain": [
       "Matrix([\n",
       "[1, 0, -48/19],\n",
       "[0, 1,  17/19]])"
      ]
     },
     "execution_count": 104,
     "metadata": {},
     "output_type": "execute_result"
    }
   ],
   "source": [
    "u1 = Matrix([3,-1])\n",
    "u2 = Matrix([4,5])\n",
    "u3 = Matrix([-4,7])\n",
    "A = Matrix( [u1.T,u2.T,u3.T] ).T\n",
    "M = A.rref()[0]\n",
    "\n",
    "if M == eye( *M.shape ):\n",
    "    print(\"linearly independent\")\n",
    "else:\n",
    "    print(\"linearly dependent\")\n",
    "M"
   ]
  },
  {
   "cell_type": "code",
   "execution_count": 114,
   "id": "189403ae",
   "metadata": {},
   "outputs": [
    {
     "name": "stdout",
     "output_type": "stream",
     "text": [
      "linearly independent\n"
     ]
    },
    {
     "data": {
      "text/latex": [
       "$\\displaystyle \\left[\\begin{matrix}1 & 0\\\\0 & 1\\end{matrix}\\right]$"
      ],
      "text/plain": [
       "Matrix([\n",
       "[1, 0],\n",
       "[0, 1]])"
      ]
     },
     "execution_count": 114,
     "metadata": {},
     "output_type": "execute_result"
    }
   ],
   "source": [
    "u1 = Matrix([-1,0])\n",
    "u2 = Matrix([0,-8])\n",
    "A = Matrix( [u1.T,u2.T] ).T\n",
    "M = A.rref()[0]\n",
    "\n",
    "if M == eye( *M.shape ):\n",
    "    print(\"linearly independent\")\n",
    "else:\n",
    "    print(\"linearly dependent\")\n",
    "M"
   ]
  },
  {
   "cell_type": "code",
   "execution_count": 106,
   "id": "0672ff4d",
   "metadata": {},
   "outputs": [
    {
     "name": "stdout",
     "output_type": "stream",
     "text": [
      "linearly dependent\n"
     ]
    },
    {
     "data": {
      "text/latex": [
       "$\\displaystyle \\left[\\begin{matrix}1 & 4\\\\0 & 0\\end{matrix}\\right]$"
      ],
      "text/plain": [
       "Matrix([\n",
       "[1, 4],\n",
       "[0, 0]])"
      ]
     },
     "execution_count": 106,
     "metadata": {},
     "output_type": "execute_result"
    }
   ],
   "source": [
    "u1 = Matrix([1,1])\n",
    "u2 = Matrix([4,4])\n",
    "A = Matrix( [u1.T,u2.T] ).T\n",
    "M = A.rref()[0]\n",
    "\n",
    "if M == eye( *M.shape ):\n",
    "    print(\"linearly independent\")\n",
    "else:\n",
    "    print(\"linearly dependent\")\n",
    "M"
   ]
  },
  {
   "cell_type": "code",
   "execution_count": 113,
   "id": "24cfb59a",
   "metadata": {},
   "outputs": [
    {
     "name": "stdout",
     "output_type": "stream",
     "text": [
      "linearly dependent\n"
     ]
    },
    {
     "data": {
      "text/latex": [
       "$\\displaystyle \\left[\\begin{matrix}1 & 4 & 0\\\\0 & 0 & 1\\end{matrix}\\right]$"
      ],
      "text/plain": [
       "Matrix([\n",
       "[1, 4, 0],\n",
       "[0, 0, 1]])"
      ]
     },
     "execution_count": 113,
     "metadata": {},
     "output_type": "execute_result"
    }
   ],
   "source": [
    "u1 = Matrix([1,1])\n",
    "u2 = Matrix([4,4])\n",
    "u3 = Matrix([8,9])\n",
    "A = Matrix( [u1.T,u2.T,u3.T] ).T\n",
    "M = A.rref()[0]\n",
    "\n",
    "if M == eye( *M.shape ):\n",
    "    print(\"linearly independent\")\n",
    "else:\n",
    "    print(\"linearly dependent\")\n",
    "M"
   ]
  },
  {
   "cell_type": "code",
   "execution_count": 115,
   "id": "3076222c",
   "metadata": {},
   "outputs": [
    {
     "name": "stdout",
     "output_type": "stream",
     "text": [
      "linearly dependent\n"
     ]
    },
    {
     "data": {
      "text/latex": [
       "$\\displaystyle \\left[\\begin{matrix}0 & 1 & 0\\\\0 & 0 & 1\\end{matrix}\\right]$"
      ],
      "text/plain": [
       "Matrix([\n",
       "[0, 1, 0],\n",
       "[0, 0, 1]])"
      ]
     },
     "execution_count": 115,
     "metadata": {},
     "output_type": "execute_result"
    }
   ],
   "source": [
    "u1 = Matrix([0,0])\n",
    "u2 = Matrix([4,4])\n",
    "u3 = Matrix([8,9])\n",
    "A = Matrix( [u1.T,u2.T,u3.T] ).T\n",
    "M = A.rref()[0]\n",
    "\n",
    "if M == eye( *M.shape ):\n",
    "    print(\"linearly independent\")\n",
    "else:\n",
    "    print(\"linearly dependent\")\n",
    "M"
   ]
  },
  {
   "cell_type": "code",
   "execution_count": 123,
   "id": "5e5bbcae",
   "metadata": {},
   "outputs": [
    {
     "name": "stdout",
     "output_type": "stream",
     "text": [
      "linearly dependent\n"
     ]
    },
    {
     "data": {
      "text/latex": [
       "$\\displaystyle \\left[\\begin{matrix}1 & 4 & 0\\\\0 & 0 & 1\\\\0 & 0 & 0\\end{matrix}\\right]$"
      ],
      "text/plain": [
       "Matrix([\n",
       "[1, 4, 0],\n",
       "[0, 0, 1],\n",
       "[0, 0, 0]])"
      ]
     },
     "execution_count": 123,
     "metadata": {},
     "output_type": "execute_result"
    }
   ],
   "source": [
    "u1 = Matrix([1,1,1])\n",
    "u2 = Matrix([4,4,4])\n",
    "u3 = Matrix([1,5,9])\n",
    "A = Matrix( [u1.T,u2.T,u3.T] ).T\n",
    "M = A.rref()[0]\n",
    "\n",
    "if M == eye( *M.shape ):\n",
    "    print(\"linearly independent\")\n",
    "else:\n",
    "    print(\"linearly dependent\")\n",
    "M"
   ]
  },
  {
   "cell_type": "code",
   "execution_count": 124,
   "id": "cc927df2",
   "metadata": {},
   "outputs": [
    {
     "name": "stdout",
     "output_type": "stream",
     "text": [
      "linearly dependent\n"
     ]
    },
    {
     "data": {
      "text/latex": [
       "$\\displaystyle \\left[\\begin{matrix}1 & 4 & 0\\\\0 & 0 & 1\\\\0 & 0 & 0\\\\0 & 0 & 0\\end{matrix}\\right]$"
      ],
      "text/plain": [
       "Matrix([\n",
       "[1, 4, 0],\n",
       "[0, 0, 1],\n",
       "[0, 0, 0],\n",
       "[0, 0, 0]])"
      ]
     },
     "execution_count": 124,
     "metadata": {},
     "output_type": "execute_result"
    }
   ],
   "source": [
    "u1 = Matrix([1,1,1,0])\n",
    "u2 = Matrix([4,4,4,0])\n",
    "u3 = Matrix([1,5,9,0])\n",
    "A = Matrix( [u1.T,u2.T,u3.T] ).T\n",
    "M = A.rref()[0]\n",
    "\n",
    "if M == eye( *M.shape ):\n",
    "    print(\"linearly independent\")\n",
    "else:\n",
    "    print(\"linearly dependent\")\n",
    "M"
   ]
  },
  {
   "cell_type": "code",
   "execution_count": 127,
   "id": "cadbc2e9",
   "metadata": {},
   "outputs": [
    {
     "name": "stdout",
     "output_type": "stream",
     "text": [
      "linearly independent\n"
     ]
    },
    {
     "data": {
      "text/latex": [
       "$\\displaystyle \\left[\\begin{matrix}1 & 0 & 0\\\\0 & 1 & 0\\\\0 & 0 & 1\\\\0 & 0 & 0\\end{matrix}\\right]$"
      ],
      "text/plain": [
       "Matrix([\n",
       "[1, 0, 0],\n",
       "[0, 1, 0],\n",
       "[0, 0, 1],\n",
       "[0, 0, 0]])"
      ]
     },
     "execution_count": 127,
     "metadata": {},
     "output_type": "execute_result"
    }
   ],
   "source": [
    "u1 = Matrix([1,1,1,8])\n",
    "u2 = Matrix([4,4,4,0])\n",
    "u3 = Matrix([1,5,9,0])\n",
    "A = Matrix( [u1.T,u2.T,u3.T] ).T\n",
    "M = A.rref()[0]\n",
    "\n",
    "if M == eye( *M.shape ):\n",
    "    print(\"linearly independent\")\n",
    "else:\n",
    "    print(\"linearly dependent\")\n",
    "M"
   ]
  },
  {
   "cell_type": "markdown",
   "id": "9d86dede",
   "metadata": {},
   "source": [
    "# Orthogonality\n",
    "\n",
    "If the inner product of every vector in the set with every other vector in the set is zero, then that set of vectors is orthogonal.\n",
    "\n",
    "To show that any of these sets of vectors are orthogonal, you must show that the inner product\n",
    "between any two members of the set is zero, i.e., you must show that < i | j > = 0 for all i ≠ j.\n",
    "If any of the < i | j > ≠ 0, then the system is not orthogonal. "
   ]
  },
  {
   "cell_type": "markdown",
   "id": "a3e0f1e5",
   "metadata": {},
   "source": [
    "### Example 1\n",
    "\n",
    "$|v_0 \\rangle$=$\n",
    "\\begin{align}\n",
    "\\begin{bmatrix} \n",
    "1\\\\\n",
    "1\\\\\n",
    "1\\\\\n",
    "\\end{bmatrix}\n",
    "\\end{align}\n",
    "$\n",
    "\n",
    "$|v_1 \\rangle$=$\n",
    "\\begin{align}\n",
    "\\begin{bmatrix} \n",
    "2\\\\\n",
    "-1\\\\\n",
    "-1\\\\\n",
    "\\end{bmatrix}\n",
    "\\end{align}\n",
    "$\n",
    "\n",
    "$|v_2 \\rangle$=$\n",
    "\\begin{align}\n",
    "\\begin{bmatrix} \n",
    "0\\\\\n",
    "1\\\\\n",
    "-1\\\\\n",
    "\\end{bmatrix}\n",
    "\\end{align}\n",
    "$"
   ]
  },
  {
   "cell_type": "code",
   "execution_count": 173,
   "id": "d3ab372a",
   "metadata": {},
   "outputs": [],
   "source": [
    "from itertools import combinations"
   ]
  },
  {
   "cell_type": "code",
   "execution_count": 174,
   "id": "8795deda",
   "metadata": {},
   "outputs": [],
   "source": [
    "v = []\n",
    "\n",
    "v.append( Matrix([1,1,1]) )\n",
    "v.append( Matrix([2,-1,-1]) )\n",
    "v.append( Matrix([0,1,-1]) )"
   ]
  },
  {
   "cell_type": "code",
   "execution_count": 175,
   "id": "1da704d6",
   "metadata": {},
   "outputs": [
    {
     "name": "stdout",
     "output_type": "stream",
     "text": [
      "Matrix([[1], [1], [1]])\n",
      "Matrix([[2], [-1], [-1]])\n",
      "dot: 0\n",
      "----------\n",
      "Matrix([[1], [1], [1]])\n",
      "Matrix([[0], [1], [-1]])\n",
      "dot: 0\n",
      "----------\n",
      "Matrix([[2], [-1], [-1]])\n",
      "Matrix([[0], [1], [-1]])\n",
      "dot: 0\n",
      "----------\n",
      "orthogonal? True\n"
     ]
    }
   ],
   "source": [
    "orthogonal = True\n",
    "\n",
    "for x in combinations(v,2):\n",
    "    print(x[0])\n",
    "    print(x[1])\n",
    "    \n",
    "    dot_result =  conjugate(x[0].T).dot(x[1]).simplify()\n",
    "    print('dot:',dot_result )\n",
    "    \n",
    "    if dot_result != 0:\n",
    "        orthogonal = False\n",
    "    \n",
    "    print('-'*10)\n",
    "    \n",
    "print('orthogonal?', orthogonal)"
   ]
  },
  {
   "cell_type": "markdown",
   "id": "8fe69746",
   "metadata": {},
   "source": [
    "### Example 2\n",
    "\n",
    "$|v_0 \\rangle$=$\n",
    "\\begin{align}\n",
    "\\begin{bmatrix} \n",
    "1\\\\\n",
    "i\\\\\n",
    "i\\\\\n",
    "\\end{bmatrix}\n",
    "\\end{align}\n",
    "$\n",
    "\n",
    "$|v_1 \\rangle$=$\n",
    "\\begin{align}\n",
    "\\begin{bmatrix} \n",
    "1\\\\\n",
    "2\\\\\n",
    "i\\\\\n",
    "\\end{bmatrix}\n",
    "\\end{align}\n",
    "$\n",
    "\n",
    "$|v_2 \\rangle$=$\n",
    "\\begin{align}\n",
    "\\begin{bmatrix} \n",
    "i\\\\\n",
    "0\\\\\n",
    "1\\\\\n",
    "\\end{bmatrix}\n",
    "\\end{align}\n",
    "$"
   ]
  },
  {
   "cell_type": "code",
   "execution_count": 176,
   "id": "fdcf8f5c",
   "metadata": {},
   "outputs": [
    {
     "name": "stdout",
     "output_type": "stream",
     "text": [
      "Matrix([[1], [I], [I]])\n",
      "Matrix([[1], [2], [I]])\n",
      "dot: 2 - 2*I\n",
      "----------\n",
      "Matrix([[1], [I], [I]])\n",
      "Matrix([[I], [0], [1]])\n",
      "dot: 0\n",
      "----------\n",
      "Matrix([[1], [2], [I]])\n",
      "Matrix([[I], [0], [1]])\n",
      "dot: 0\n",
      "----------\n",
      "orthogonal? False\n"
     ]
    }
   ],
   "source": [
    "v = []\n",
    "\n",
    "v.append( Matrix([1,I,I]) )\n",
    "v.append( Matrix([1,2,I]) )\n",
    "v.append( Matrix([I,0,1]) )\n",
    "\n",
    "orthogonal = True\n",
    "\n",
    "for x in combinations(v,2):\n",
    "    print(x[0])\n",
    "    print(x[1])\n",
    "    \n",
    "    dot_result =  conjugate(x[0].T).dot(x[1]).simplify()\n",
    "    print('dot:',dot_result )\n",
    "    \n",
    "    if dot_result != 0:\n",
    "        orthogonal = False\n",
    "    \n",
    "    print('-'*10)\n",
    "    \n",
    "print('orthogonal?', orthogonal)"
   ]
  },
  {
   "cell_type": "markdown",
   "id": "5b84ac94",
   "metadata": {},
   "source": [
    "### Example 3\n",
    "\n",
    "$|v_0 \\rangle$=$\n",
    "\\begin{align}\n",
    "\\begin{bmatrix} \n",
    "1+i\\\\\n",
    "i\\\\\n",
    "-2-i\\\\\n",
    "\\end{bmatrix}\n",
    "\\end{align}\n",
    "$\n",
    "\n",
    "$|v_1 \\rangle$=$\n",
    "\\begin{align}\n",
    "\\begin{bmatrix} \n",
    "2\\\\\n",
    "-1\\\\\n",
    "1\\\\\n",
    "\\end{bmatrix}\n",
    "\\end{align}\n",
    "$\n",
    "\n",
    "$|v_2 \\rangle$=$\n",
    "\\begin{align}\n",
    "\\begin{bmatrix} \n",
    "1+i\\\\\n",
    "1\\\\\n",
    "-1\\\\\n",
    "\\end{bmatrix}\n",
    "\\end{align}\n",
    "$"
   ]
  },
  {
   "cell_type": "code",
   "execution_count": 177,
   "id": "6231e519",
   "metadata": {},
   "outputs": [
    {
     "name": "stdout",
     "output_type": "stream",
     "text": [
      "Matrix([[1 + I], [I], [-2 - I]])\n",
      "Matrix([[2], [-1], [1]])\n",
      "dot: 0\n",
      "----------\n",
      "Matrix([[1 + I], [I], [-2 - I]])\n",
      "Matrix([[1 + I], [1], [-1]])\n",
      "dot: 4 - 2*I\n",
      "----------\n",
      "Matrix([[2], [-1], [1]])\n",
      "Matrix([[1 + I], [1], [-1]])\n",
      "dot: 2*I\n",
      "----------\n",
      "orthogonal? False\n"
     ]
    }
   ],
   "source": [
    "v = []\n",
    "\n",
    "v.append( Matrix([1+I,I,-2-I]) )\n",
    "v.append( Matrix([2,-1,1]) )\n",
    "v.append( Matrix([1+I,1,-1]) )\n",
    "\n",
    "orthogonal = True\n",
    "\n",
    "for x in combinations(v,2):\n",
    "    print(x[0])\n",
    "    print(x[1])\n",
    "    \n",
    "    dot_result =  conjugate(x[0].T).dot(x[1]).simplify()\n",
    "    print('dot:',dot_result )\n",
    "    \n",
    "    if dot_result != 0:\n",
    "        orthogonal = False\n",
    "    \n",
    "    print('-'*10)\n",
    "    \n",
    "print('orthogonal?', orthogonal)"
   ]
  },
  {
   "cell_type": "markdown",
   "id": "4abea4cd",
   "metadata": {},
   "source": [
    "### Example 4\n",
    "\n",
    "$|v_0 \\rangle$=$\n",
    "\\begin{align}\n",
    "\\begin{bmatrix} \n",
    "1\\\\\n",
    "0\\\\\n",
    "1+i\\\\\n",
    "\\end{bmatrix}\n",
    "\\end{align}\n",
    "$\n",
    "\n",
    "$|v_1 \\rangle$=$\n",
    "\\begin{align}\n",
    "\\begin{bmatrix} \n",
    "-1+i\\\\\n",
    "-i\\\\\n",
    "1\\\\\n",
    "\\end{bmatrix}\n",
    "\\end{align}\n",
    "$\n",
    "\n",
    "$|v_2 \\rangle$=$\n",
    "\\begin{align}\n",
    "\\begin{bmatrix} \n",
    "1+i\\\\\n",
    "3\\\\\n",
    "-i\\\\\n",
    "\\end{bmatrix}\n",
    "\\end{align}\n",
    "$"
   ]
  },
  {
   "cell_type": "code",
   "execution_count": 180,
   "id": "c146df2d",
   "metadata": {},
   "outputs": [
    {
     "name": "stdout",
     "output_type": "stream",
     "text": [
      "Matrix([[1], [0], [1 + I]])\n",
      "Matrix([[-1 + I], [-I], [1]])\n",
      "dot: 0\n",
      "----------\n",
      "Matrix([[1], [0], [1 + I]])\n",
      "Matrix([[1 + I], [3], [-I]])\n",
      "dot: 0\n",
      "----------\n",
      "Matrix([[-1 + I], [-I], [1]])\n",
      "Matrix([[1 + I], [3], [-I]])\n",
      "dot: 0\n",
      "----------\n",
      "orthogonal? True\n"
     ]
    }
   ],
   "source": [
    "v = []\n",
    "\n",
    "v.append( Matrix([1,0,1+I]) )\n",
    "v.append( Matrix([-1+I,-I,1]) )\n",
    "v.append( Matrix([1+I,3,-I]) )\n",
    "\n",
    "orthogonal = True\n",
    "\n",
    "for x in combinations(v,2):\n",
    "    print(x[0])\n",
    "    print(x[1])\n",
    "    \n",
    "    dot_result =  conjugate(x[0].T).dot(x[1]).simplify()\n",
    "    print('dot:',dot_result )\n",
    "    \n",
    "    if dot_result != 0:\n",
    "        orthogonal = False\n",
    "    \n",
    "    print('-'*10)\n",
    "    \n",
    "print('orthogonal?', orthogonal)"
   ]
  },
  {
   "cell_type": "markdown",
   "id": "9aa4142a",
   "metadata": {},
   "source": [
    "A set of basis vectors that is useful for quantum mechanical calculation does not\n",
    "include a zero vector. All basis vectors must be non-zero.\n",
    "As indicated, if < i | j > = 0, then < j | i > = 0. \n",
    "\n",
    "But if < i | j > ≠ 0, then generally\n",
    "< i | j > ≠ < j | i > . \n",
    "\n",
    "# Orthonormality\n",
    "\n",
    "A set of vectors that is both\n",
    "\"orthogonal\" and \"normalized\" has the property of orthonormality."
   ]
  },
  {
   "cell_type": "markdown",
   "id": "e9afbb62",
   "metadata": {},
   "source": [
    "### Example 1\n",
    "\n",
    "$|v_0 \\rangle$=$\n",
    "\\frac{ 1}{\\sqrt 2 }\n",
    "$$\n",
    "\\begin{align}\n",
    "\\begin{bmatrix} \n",
    "1\\\\\n",
    "1\\\\\n",
    "\\end{bmatrix}\n",
    "\\end{align}\n",
    "$\n",
    "\n",
    "$|v_1 \\rangle$=$\n",
    "\\frac{ 1}{\\sqrt 2 }\n",
    "$$\n",
    "\\begin{align}\n",
    "\\begin{bmatrix} \n",
    "1\\\\\n",
    "-1\\\\\n",
    "\\end{bmatrix}\n",
    "\\end{align}\n",
    "$"
   ]
  },
  {
   "cell_type": "code",
   "execution_count": 212,
   "id": "441344e9",
   "metadata": {},
   "outputs": [],
   "source": [
    "v0 = (1/sqrt(2))*Matrix([1,1])\n",
    "v1 = (1/sqrt(2))*Matrix([1,-1])"
   ]
  },
  {
   "cell_type": "code",
   "execution_count": 213,
   "id": "1a55ad3a",
   "metadata": {},
   "outputs": [
    {
     "name": "stdout",
     "output_type": "stream",
     "text": [
      "v0 normalized\n",
      "v1 normalized\n"
     ]
    }
   ],
   "source": [
    "if conjugate(v0.T).dot(v0).simplify() == 1:\n",
    "    print( 'v0 normalized' )\n",
    "\n",
    "if conjugate(v1.T).dot(v1).simplify() == 1:\n",
    "    print( 'v1 normalized' )"
   ]
  },
  {
   "cell_type": "code",
   "execution_count": 214,
   "id": "dbf65cc2",
   "metadata": {},
   "outputs": [
    {
     "name": "stdout",
     "output_type": "stream",
     "text": [
      "orthogonal\n"
     ]
    }
   ],
   "source": [
    "if conjugate(v0.T).dot(v1).simplify() == 0:\n",
    "    print( 'orthogonal' )"
   ]
  },
  {
   "cell_type": "markdown",
   "id": "c15d69b2",
   "metadata": {},
   "source": [
    "### Example 2\n",
    "\n",
    "$|v_0 \\rangle$=$\n",
    "\\frac{ 1}{ 2 }\n",
    "$$\n",
    "\\begin{align}\n",
    "\\begin{bmatrix} \n",
    "1-i\\\\\n",
    "\\sqrt{2}\\\\\n",
    "\\end{bmatrix}\n",
    "\\end{align}\n",
    "$\n",
    "\n",
    "$|v_1 \\rangle$=$\n",
    "\\frac{ 1}{ 2 }\n",
    "$$\n",
    "\\begin{align}\n",
    "\\begin{bmatrix} \n",
    "-1+i\\\\\n",
    "\\sqrt{2}\\\\\n",
    "\\end{bmatrix}\n",
    "\\end{align}\n",
    "$"
   ]
  },
  {
   "cell_type": "code",
   "execution_count": 215,
   "id": "35dfe209",
   "metadata": {},
   "outputs": [],
   "source": [
    "v0 = (1/2)*Matrix([1-I,sqrt(2)])\n",
    "v1 = (1/2)*Matrix([-1+I,sqrt(2)])"
   ]
  },
  {
   "cell_type": "code",
   "execution_count": 216,
   "id": "3d22559d",
   "metadata": {},
   "outputs": [
    {
     "name": "stdout",
     "output_type": "stream",
     "text": [
      "v0 normalized\n",
      "v1 normalized\n"
     ]
    }
   ],
   "source": [
    "if conjugate(v0.T).dot(v0).simplify() == 1:\n",
    "    print( 'v0 normalized' )\n",
    "\n",
    "if conjugate(v1.T).dot(v1).simplify() == 1:\n",
    "    print( 'v1 normalized' )"
   ]
  },
  {
   "cell_type": "code",
   "execution_count": 217,
   "id": "387156be",
   "metadata": {},
   "outputs": [
    {
     "name": "stdout",
     "output_type": "stream",
     "text": [
      "orthogonal\n"
     ]
    }
   ],
   "source": [
    "if conjugate(v0.T).dot(v1).simplify() == 0:\n",
    "    print( 'orthogonal' )"
   ]
  },
  {
   "cell_type": "markdown",
   "id": "75eba4e4",
   "metadata": {},
   "source": [
    "### Orthonormality condition\n",
    "\n",
    "The orthonormality condition is often expressed using the Kronecker delta. The Kronecker delta is defined\n",
    "\n",
    "![''](images/gdfdfhfh.png)\n",
    "\n",
    "Using Dirac notation and the Kronecker delta, orthonormality is denoted\n",
    "\n",
    "$\\langle i | j \\rangle = δ_{ij}$\n",
    "-----\n",
    "1 means normalized \n",
    "\n",
    "0 means orthogonal"
   ]
  },
  {
   "cell_type": "markdown",
   "id": "81480786",
   "metadata": {},
   "source": [
    "# GramSchmidt orthonormalization procedure\n",
    "\n",
    "You can make an orthonormal basis from any linearly independent set of vectors using the GramSchmidt orthonormalization procedure."
   ]
  },
  {
   "cell_type": "code",
   "execution_count": null,
   "id": "69e8d6f5",
   "metadata": {},
   "outputs": [],
   "source": []
  }
 ],
 "metadata": {
  "kernelspec": {
   "display_name": "Python 3 (ipykernel)",
   "language": "python",
   "name": "python3"
  },
  "language_info": {
   "codemirror_mode": {
    "name": "ipython",
    "version": 3
   },
   "file_extension": ".py",
   "mimetype": "text/x-python",
   "name": "python",
   "nbconvert_exporter": "python",
   "pygments_lexer": "ipython3",
   "version": "3.9.13"
  }
 },
 "nbformat": 4,
 "nbformat_minor": 5
}
