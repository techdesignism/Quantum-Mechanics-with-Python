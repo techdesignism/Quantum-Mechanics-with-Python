{
 "cells": [
  {
   "cell_type": "markdown",
   "id": "eb69543a",
   "metadata": {},
   "source": [
    "# Ch003 - State Vector"
   ]
  },
  {
   "cell_type": "code",
   "execution_count": 2,
   "id": "701889a8",
   "metadata": {},
   "outputs": [],
   "source": [
    "from sympy.physics.quantum import *\n",
    "from sympy import *\n",
    "#import the libraries of sympy"
   ]
  },
  {
   "cell_type": "code",
   "execution_count": 3,
   "id": "8d9e22a3",
   "metadata": {},
   "outputs": [
    {
     "data": {
      "text/latex": [
       "$\\displaystyle {\\left|a\\right\\rangle }$"
      ],
      "text/plain": [
       "|a>"
      ]
     },
     "execution_count": 3,
     "metadata": {},
     "output_type": "execute_result"
    }
   ],
   "source": [
    "Ket('a')"
   ]
  },
  {
   "cell_type": "code",
   "execution_count": null,
   "id": "5d818ae2",
   "metadata": {},
   "outputs": [],
   "source": []
  },
  {
   "cell_type": "code",
   "execution_count": null,
   "id": "a77f3292",
   "metadata": {},
   "outputs": [],
   "source": []
  }
 ],
 "metadata": {
  "kernelspec": {
   "display_name": "Python 3 (ipykernel)",
   "language": "python",
   "name": "python3"
  },
  "language_info": {
   "codemirror_mode": {
    "name": "ipython",
    "version": 3
   },
   "file_extension": ".py",
   "mimetype": "text/x-python",
   "name": "python",
   "nbconvert_exporter": "python",
   "pygments_lexer": "ipython3",
   "version": "3.9.13"
  }
 },
 "nbformat": 4,
 "nbformat_minor": 5
}
