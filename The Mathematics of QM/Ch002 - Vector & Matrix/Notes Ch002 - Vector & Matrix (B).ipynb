{
 "cells": [
  {
   "cell_type": "markdown",
   "id": "1b7a4136",
   "metadata": {},
   "source": [
    "# Ch002 - Vector & Matrix (B)\n",
    "\n",
    "A Matrix is an array of numbers:\n",
    "(This one has 2 Rows and 3 Columns)\n",
    "\n",
    "![\"\"](images/matrix-example.svg)\n",
    "\n",
    "We talk about one matrix, or several matrices."
   ]
  },
  {
   "cell_type": "code",
   "execution_count": 1,
   "id": "3c08a19c",
   "metadata": {},
   "outputs": [
    {
     "data": {
      "text/latex": [
       "$\\displaystyle \\left[\\begin{matrix}6 & 4 & 24\\\\1 & -9 & 8\\end{matrix}\\right]$"
      ],
      "text/plain": [
       "Matrix([\n",
       "[6,  4, 24],\n",
       "[1, -9,  8]])"
      ]
     },
     "execution_count": 1,
     "metadata": {},
     "output_type": "execute_result"
    }
   ],
   "source": [
    "from sympy import *\n",
    "#import the libraries of sympy\n",
    "\n",
    "a = Matrix([\n",
    "    [6,4,24],\n",
    "    [1,-9,8]\n",
    "])\n",
    "\n",
    "a"
   ]
  },
  {
   "cell_type": "markdown",
   "id": "b382be4b",
   "metadata": {},
   "source": [
    "# Adding\n",
    "To add two matrices: add the numbers in the matching positions:\n",
    "\n",
    "![\"\"](images/matrix-addition.gif)\n",
    "\n",
    "These are the calculations:\n",
    "\n",
    "| | |\n",
    "| ---- | ---- |\n",
    "| 3+4=7 | 8+0=8 |\n",
    "| 4+1=5 | 6−9=−3 |\n",
    "\n",
    "The two matrices must be the same size, i.e. the rows must match in size, and the columns must match in size.\n",
    "\n",
    "Example: a matrix with 3 rows and 5 columns can be added to another matrix of 3 rows and 5 columns.\n",
    "\n",
    "But it could not be added to a matrix with 3 rows and 4 columns (the columns don't match in size)"
   ]
  },
  {
   "cell_type": "code",
   "execution_count": 2,
   "id": "b6201a16",
   "metadata": {},
   "outputs": [
    {
     "data": {
      "text/latex": [
       "$\\displaystyle \\left[\\begin{matrix}7 & 8\\\\5 & -3\\end{matrix}\\right]$"
      ],
      "text/plain": [
       "Matrix([\n",
       "[7,  8],\n",
       "[5, -3]])"
      ]
     },
     "execution_count": 2,
     "metadata": {},
     "output_type": "execute_result"
    }
   ],
   "source": [
    "a = Matrix([\n",
    "    [3,8],\n",
    "    [4,6]\n",
    "])\n",
    "\n",
    "b = Matrix([\n",
    "    [4,0],\n",
    "    [1,-9]\n",
    "])\n",
    "\n",
    "a+b"
   ]
  },
  {
   "cell_type": "markdown",
   "id": "5c45a1af",
   "metadata": {},
   "source": [
    "# Negative\n",
    "\n",
    "The negative of a matrix is also simple:\n",
    "\n",
    "![\"\"](images/matrix-negative.gif)\n",
    "\n",
    "These are the calculations:\n",
    "\n",
    "| | |\n",
    "| ---- | ---- |\n",
    "| −(2)=−2 | −(−4)=+4 |\n",
    "| −(7)=−7 | −(10)=−10 |\n"
   ]
  },
  {
   "cell_type": "code",
   "execution_count": 3,
   "id": "b5e0760e",
   "metadata": {},
   "outputs": [
    {
     "data": {
      "text/latex": [
       "$\\displaystyle \\left[\\begin{matrix}-2 & 4\\\\-7 & -10\\end{matrix}\\right]$"
      ],
      "text/plain": [
       "Matrix([\n",
       "[-2,   4],\n",
       "[-7, -10]])"
      ]
     },
     "execution_count": 3,
     "metadata": {},
     "output_type": "execute_result"
    }
   ],
   "source": [
    "a = Matrix([\n",
    "    [2,-4],\n",
    "    [7,10]\n",
    "])\n",
    "\n",
    "-a"
   ]
  },
  {
   "cell_type": "markdown",
   "id": "11ac07b5",
   "metadata": {},
   "source": [
    "# Subtracting\n",
    "\n",
    "To subtract two matrices: subtract the numbers in the matching positions:\n",
    "\n",
    "![\"\"](images/matrix-subtraction.gif)\n",
    "\n",
    "These are the calculations:\n",
    "\n",
    "|||\n",
    "|----|----|\n",
    "|3−4=−1|8−0=8|\n",
    "|4−1=3|6−(−9)=15|\n",
    "\n",
    "Note: subtracting is actually defined as the addition of a negative matrix: A + (−B)"
   ]
  },
  {
   "cell_type": "code",
   "execution_count": 4,
   "id": "2b379055",
   "metadata": {},
   "outputs": [
    {
     "data": {
      "text/latex": [
       "$\\displaystyle \\left[\\begin{matrix}-1 & 8\\\\3 & 15\\end{matrix}\\right]$"
      ],
      "text/plain": [
       "Matrix([\n",
       "[-1,  8],\n",
       "[ 3, 15]])"
      ]
     },
     "execution_count": 4,
     "metadata": {},
     "output_type": "execute_result"
    }
   ],
   "source": [
    "a = Matrix([\n",
    "    [3,8],\n",
    "    [4,6]\n",
    "])\n",
    "\n",
    "b = Matrix([\n",
    "    [4,0],\n",
    "    [1,-9]\n",
    "])\n",
    "\n",
    "a-b"
   ]
  },
  {
   "cell_type": "markdown",
   "id": "0fb60e05",
   "metadata": {},
   "source": [
    "# Multiply by a Constant\n",
    "\n",
    "We can multiply a matrix by a constant (the value 2 in this case):\n",
    "\n",
    "![\"\"](images/matrix-multiply-constant.gif)\n",
    "\n",
    "These are the calculations:\n",
    "\n",
    "|||\n",
    "|----|----|\n",
    "|2×4=8|2×0=0|\n",
    "|2×1=2|2×−9=−18|\n",
    "\n",
    "We call the constant a scalar, so officially this is called \"scalar multiplication\"."
   ]
  },
  {
   "cell_type": "code",
   "execution_count": 5,
   "id": "cf2adf1a",
   "metadata": {},
   "outputs": [
    {
     "data": {
      "text/latex": [
       "$\\displaystyle \\left[\\begin{matrix}8 & 0\\\\2 & -18\\end{matrix}\\right]$"
      ],
      "text/plain": [
       "Matrix([\n",
       "[8,   0],\n",
       "[2, -18]])"
      ]
     },
     "execution_count": 5,
     "metadata": {},
     "output_type": "execute_result"
    }
   ],
   "source": [
    "b = Matrix([\n",
    "    [4,0],\n",
    "    [1,-9]\n",
    "])\n",
    "\n",
    "2*b"
   ]
  },
  {
   "cell_type": "markdown",
   "id": "e662f44c",
   "metadata": {},
   "source": [
    "# Multiplying a Matrix by Another Matrix\n",
    "\n",
    "But to multiply a matrix by another matrix we need to do the \"dot product\" of rows and columns ... what does that mean? Let us see with an example:\n",
    "\n",
    "To work out the answer for the 1st row and 1st column:\n",
    "\n",
    "![\"\"](images/matrix-multiply-a.svg)\n",
    "\n",
    "The \"Dot Product\" is where we multiply matching members, then sum up:\n",
    "\n",
    "(1, 2, 3) • (7, 9, 11) = 1×7 + 2×9 + 3×11\n",
    "    = 58\n",
    "\n",
    "We match the 1st members (1 and 7), multiply them, likewise for the 2nd members (2 and 9) and the 3rd members (3 and 11), and finally sum them up.\n",
    "\n",
    "\n",
    "Want to see another example? Here it is for the 1st row and 2nd column:\n",
    "\n",
    "![\"\"](images/matrix-multiply-b.svg)\n",
    "\n",
    "(1, 2, 3) • (8, 10, 12) = 1×8 + 2×10 + 3×12\n",
    "    = 64\n",
    "    \n",
    "We can do the same thing for the 2nd row and 1st column:\n",
    "\n",
    "(4, 5, 6) • (7, 9, 11) = 4×7 + 5×9 + 6×11\n",
    "    = 139\n",
    "\n",
    "And for the 2nd row and 2nd column:\n",
    "\n",
    "(4, 5, 6) • (8, 10, 12) = 4×8 + 5×10 + 6×12\n",
    "    = 154\n",
    "    \n",
    "![\"\"](images/matrix-multiply-c.svg)"
   ]
  },
  {
   "cell_type": "code",
   "execution_count": 6,
   "id": "2378193e",
   "metadata": {},
   "outputs": [],
   "source": [
    "a = Matrix([[1,2,3],[4,5,6]])\n",
    "\n",
    "b = Matrix([[7,8],[9,10],[11,12]])"
   ]
  },
  {
   "cell_type": "code",
   "execution_count": 7,
   "id": "005f2155",
   "metadata": {},
   "outputs": [
    {
     "data": {
      "text/latex": [
       "$\\displaystyle \\left[\\begin{matrix}1 & 2 & 3\\\\4 & 5 & 6\\end{matrix}\\right]$"
      ],
      "text/plain": [
       "Matrix([\n",
       "[1, 2, 3],\n",
       "[4, 5, 6]])"
      ]
     },
     "execution_count": 7,
     "metadata": {},
     "output_type": "execute_result"
    }
   ],
   "source": [
    "a"
   ]
  },
  {
   "cell_type": "code",
   "execution_count": 8,
   "id": "8bb04db4",
   "metadata": {},
   "outputs": [
    {
     "data": {
      "text/latex": [
       "$\\displaystyle \\left[\\begin{matrix}7 & 8\\\\9 & 10\\\\11 & 12\\end{matrix}\\right]$"
      ],
      "text/plain": [
       "Matrix([\n",
       "[ 7,  8],\n",
       "[ 9, 10],\n",
       "[11, 12]])"
      ]
     },
     "execution_count": 8,
     "metadata": {},
     "output_type": "execute_result"
    }
   ],
   "source": [
    "b"
   ]
  },
  {
   "cell_type": "code",
   "execution_count": 9,
   "id": "a3999de5",
   "metadata": {},
   "outputs": [
    {
     "data": {
      "text/latex": [
       "$\\displaystyle \\left[\\begin{matrix}58 & 64\\\\139 & 154\\end{matrix}\\right]$"
      ],
      "text/plain": [
       "Matrix([\n",
       "[ 58,  64],\n",
       "[139, 154]])"
      ]
     },
     "execution_count": 9,
     "metadata": {},
     "output_type": "execute_result"
    }
   ],
   "source": [
    "a*b"
   ]
  },
  {
   "cell_type": "markdown",
   "id": "e8c5cf55",
   "metadata": {},
   "source": [
    "# Transposing\n",
    "\n",
    "To \"transpose\" a matrix, swap the rows and columns.\n",
    "\n",
    "We put a \"T\" in the top right-hand corner to mean transpose:\n",
    "\n",
    "![\"\"](images/matrix-transpose.gif)"
   ]
  },
  {
   "cell_type": "code",
   "execution_count": 10,
   "id": "68fa95f3",
   "metadata": {},
   "outputs": [
    {
     "data": {
      "text/latex": [
       "$\\displaystyle \\left[\\begin{matrix}6 & 4 & 24\\\\1 & -9 & 8\\end{matrix}\\right]$"
      ],
      "text/plain": [
       "Matrix([\n",
       "[6,  4, 24],\n",
       "[1, -9,  8]])"
      ]
     },
     "execution_count": 10,
     "metadata": {},
     "output_type": "execute_result"
    }
   ],
   "source": [
    "a = Matrix([\n",
    "    [6,4,24],\n",
    "    [1,-9,8]\n",
    "])\n",
    "\n",
    "a"
   ]
  },
  {
   "cell_type": "code",
   "execution_count": 11,
   "id": "da907a61",
   "metadata": {},
   "outputs": [
    {
     "data": {
      "text/latex": [
       "$\\displaystyle \\left[\\begin{matrix}6 & 1\\\\4 & -9\\\\24 & 8\\end{matrix}\\right]$"
      ],
      "text/plain": [
       "Matrix([\n",
       "[ 6,  1],\n",
       "[ 4, -9],\n",
       "[24,  8]])"
      ]
     },
     "execution_count": 11,
     "metadata": {},
     "output_type": "execute_result"
    }
   ],
   "source": [
    "a.T"
   ]
  },
  {
   "cell_type": "markdown",
   "id": "48ba64a4",
   "metadata": {},
   "source": [
    "# Notation\n",
    "\n",
    "A matrix is usually shown by a capital letter (such as A, or B)\n",
    "\n",
    "Each entry (or \"element\") is shown by a lower case letter with a \"subscript\" of row,column:\n",
    "\n",
    "![\"\"](images/matrix-notation.gif)"
   ]
  },
  {
   "cell_type": "code",
   "execution_count": 12,
   "id": "47410890",
   "metadata": {},
   "outputs": [
    {
     "data": {
      "text/latex": [
       "$\\displaystyle \\left[\\begin{matrix}6 & 4 & 24\\\\1 & -9 & 8\\end{matrix}\\right]$"
      ],
      "text/plain": [
       "Matrix([\n",
       "[6,  4, 24],\n",
       "[1, -9,  8]])"
      ]
     },
     "execution_count": 12,
     "metadata": {},
     "output_type": "execute_result"
    }
   ],
   "source": [
    "a = Matrix([\n",
    "    [6,4,24],\n",
    "    [1,-9,8]\n",
    "])\n",
    "\n",
    "a"
   ]
  },
  {
   "cell_type": "code",
   "execution_count": 13,
   "id": "c89b3be8",
   "metadata": {},
   "outputs": [
    {
     "name": "stdout",
     "output_type": "stream",
     "text": [
      "0 , 0 : 6\n",
      "0 , 1 : 4\n",
      "0 , 2 : 24\n",
      "==========\n",
      "1 , 0 : 1\n",
      "1 , 1 : -9\n",
      "1 , 2 : 8\n",
      "==========\n"
     ]
    }
   ],
   "source": [
    "#in python, the index is starting with 0.\n",
    "\n",
    "for i in range(2):\n",
    "    for j in range(3):\n",
    "        print(i,\",\",j,\":\",  a.row(i).col(j)[0] )\n",
    "    print('='*10)"
   ]
  },
  {
   "cell_type": "markdown",
   "id": "115c8810",
   "metadata": {},
   "source": [
    "# Identity Matrix\n",
    "\n",
    "We just mentioned the \"Identity Matrix\". It is the matrix equivalent of the number \"1\":"
   ]
  },
  {
   "cell_type": "code",
   "execution_count": 14,
   "id": "513e226f",
   "metadata": {},
   "outputs": [
    {
     "data": {
      "text/latex": [
       "$\\displaystyle \\left[\\begin{matrix}1 & 0 & 0\\\\0 & 1 & 0\\\\0 & 0 & 1\\end{matrix}\\right]$"
      ],
      "text/plain": [
       "Matrix([\n",
       "[1, 0, 0],\n",
       "[0, 1, 0],\n",
       "[0, 0, 1]])"
      ]
     },
     "execution_count": 14,
     "metadata": {},
     "output_type": "execute_result"
    }
   ],
   "source": [
    "eye(3)"
   ]
  },
  {
   "cell_type": "markdown",
   "id": "077403fb",
   "metadata": {},
   "source": [
    "A 3x3 Identity Matrix\n",
    "\n",
    "- It is \"square\" (has same number of rows as columns),\n",
    "- It has 1s on the diagonal and 0s everywhere else.\n",
    "- Its symbol is the capital letter I.\n",
    "\n",
    "The Identity Matrix can be 2×2 in size, or 3×3, 4×4, etc ..."
   ]
  },
  {
   "cell_type": "markdown",
   "id": "9ae38230",
   "metadata": {},
   "source": [
    "# Dividing\n",
    "\n",
    "And what about division? Well we don't actually divide matrices, we do it this way:\n",
    "\n",
    "$A/B = A × (1/B) = A × B^{-1}$\n",
    "\n",
    "where $B^{-1}$ means the \"inverse\" of $B$.\n",
    "\n",
    "\n",
    "What is the Inverse of a Matrix?\n",
    "Just like a number has a reciprocal:\n",
    "\n",
    "![\"\"](images/reciprocal-reciprocal.svg)\n",
    "\n",
    "Reciprocal of a Number (note: $\\frac{1}{8}$can also be written $8^{-1}$)\n",
    "\n",
    "![\"\"](images/matrix-inverse-both.svg)\n",
    "\n",
    "We write $A^{-1}$ instead of $\\frac{1}{A}$ because we don't divide by a matrix."
   ]
  },
  {
   "cell_type": "markdown",
   "id": "19dbcfbf",
   "metadata": {},
   "source": [
    "And there are other similarities:\n",
    "\n",
    "When we multiply a number by its reciprocal we get 1:\n",
    "\n",
    "$8*\\frac{1}{8} = 1$\n",
    "\n",
    "When we multiply a matrix by its inverse we get the Identity Matrix (which is like \"1\" for matrices):\n",
    "\n",
    "$A A^{-1} = I$\n",
    "\n",
    "Same thing when the inverse comes first:\n",
    "\n",
    "$\\frac{1}{8} * 8 = 1$\n",
    "\n",
    "$A^{-1}  A = I$"
   ]
  },
  {
   "cell_type": "code",
   "execution_count": 15,
   "id": "41726366",
   "metadata": {},
   "outputs": [
    {
     "data": {
      "text/latex": [
       "$\\displaystyle \\left[\\begin{matrix}4 & -7\\\\3 & 9\\end{matrix}\\right]$"
      ],
      "text/plain": [
       "Matrix([\n",
       "[4, -7],\n",
       "[3,  9]])"
      ]
     },
     "execution_count": 15,
     "metadata": {},
     "output_type": "execute_result"
    }
   ],
   "source": [
    "a = Matrix([\n",
    "    [4,-7],\n",
    "    [3,9]\n",
    "])\n",
    "\n",
    "a"
   ]
  },
  {
   "cell_type": "code",
   "execution_count": 19,
   "id": "0b8b8303",
   "metadata": {},
   "outputs": [
    {
     "data": {
      "text/latex": [
       "$\\displaystyle \\left[\\begin{matrix}\\frac{3}{19} & \\frac{7}{57}\\\\- \\frac{1}{19} & \\frac{4}{57}\\end{matrix}\\right]$"
      ],
      "text/plain": [
       "Matrix([\n",
       "[ 3/19, 7/57],\n",
       "[-1/19, 4/57]])"
      ]
     },
     "execution_count": 19,
     "metadata": {},
     "output_type": "execute_result"
    }
   ],
   "source": [
    "a.inv()\n",
    "\n",
    "#inverse of a"
   ]
  },
  {
   "cell_type": "code",
   "execution_count": 17,
   "id": "dcd019ae",
   "metadata": {},
   "outputs": [
    {
     "data": {
      "text/latex": [
       "$\\displaystyle \\left[\\begin{matrix}1 & 0\\\\0 & 1\\end{matrix}\\right]$"
      ],
      "text/plain": [
       "Matrix([\n",
       "[1, 0],\n",
       "[0, 1]])"
      ]
     },
     "execution_count": 17,
     "metadata": {},
     "output_type": "execute_result"
    }
   ],
   "source": [
    "a*a.inv()"
   ]
  },
  {
   "cell_type": "code",
   "execution_count": 18,
   "id": "28fe7d22",
   "metadata": {},
   "outputs": [
    {
     "data": {
      "text/latex": [
       "$\\displaystyle \\left[\\begin{matrix}1 & 0\\\\0 & 1\\end{matrix}\\right]$"
      ],
      "text/plain": [
       "Matrix([\n",
       "[1, 0],\n",
       "[0, 1]])"
      ]
     },
     "execution_count": 18,
     "metadata": {},
     "output_type": "execute_result"
    }
   ],
   "source": [
    "a.inv()*a"
   ]
  }
 ],
 "metadata": {
  "kernelspec": {
   "display_name": "Python 3 (ipykernel)",
   "language": "python",
   "name": "python3"
  },
  "language_info": {
   "codemirror_mode": {
    "name": "ipython",
    "version": 3
   },
   "file_extension": ".py",
   "mimetype": "text/x-python",
   "name": "python",
   "nbconvert_exporter": "python",
   "pygments_lexer": "ipython3",
   "version": "3.9.13"
  }
 },
 "nbformat": 4,
 "nbformat_minor": 5
}
