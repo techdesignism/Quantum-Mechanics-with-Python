{
 "cells": [
  {
   "cell_type": "markdown",
   "id": "ca42f3e1",
   "metadata": {},
   "source": [
    "# Ch002 - Vector & Matrix\n",
    "\n",
    "Vectors, in Maths, are objects which have both, magnitude and direction. Magnitude defines the size of the vector. It is represented by a line with an arrow, where the length of the line is the magnitude of the vector and the arrow shows the direction. It is also known as Euclidean vector or Geometric vector or Spatial vector or simply “vector“. \n",
    "\n",
    "![\"\"](images/Vectors.jpg)"
   ]
  },
  {
   "cell_type": "markdown",
   "id": "0a1efc0c",
   "metadata": {},
   "source": [
    "We can add two vectors by joining them head-to-tail:\n",
    "\n",
    "![\"\"](images/vector-add.svg)\n",
    "\n",
    "And it doesn't matter which order we add them, we get the same result:\n",
    "\n",
    "![\"\"](images/vector-add2.gif)\n",
    "\n",
    "Example: A plane is flying along, pointing North, but there is a wind coming from the North-West.\n",
    "\n",
    "![\"\"](images/vector-airplane.svg)\n",
    "\n",
    "The two vectors (the velocity caused by the propeller, and the velocity of the wind) result in a slightly slower ground speed heading a little East of North.\n",
    "\n",
    "If you watched the plane from the ground it would seem to be slipping sideways a little.\n",
    "\n",
    "\n",
    "### Velocity, acceleration, force and many other things are vectors."
   ]
  },
  {
   "cell_type": "markdown",
   "id": "e4cb02f3",
   "metadata": {},
   "source": [
    "# Subtracting\n",
    "\n",
    "We can also subtract one vector from another:\n",
    "\n",
    "first we reverse the direction of the vector we want to subtract,\n",
    "\n",
    "then add them as usual:\n",
    "\n",
    "![\"\"](images/vector-subtract.gif)\n"
   ]
  },
  {
   "cell_type": "markdown",
   "id": "4c1e8c2f",
   "metadata": {},
   "source": [
    "# Notation\n",
    "\n",
    "A vector is often written in bold, like a or b.\n",
    "\n",
    "A vector can also be written as the letters\n",
    "of its head and tail with an arrow above it, like this:\n",
    "\n",
    "![\"\"](images/vector-notation.svg)\n"
   ]
  },
  {
   "cell_type": "markdown",
   "id": "7ea8d5e6",
   "metadata": {},
   "source": [
    "# Calculations\n",
    "\n",
    "The most common way is to first break up vectors into x and y parts, like this:\n",
    "\n",
    "![\"\"](images/vector-xy-components.gif)\n",
    "\n",
    "The vector $a$ is broken up into\n",
    "the two vectors $a_{x}$ and $a_{y}$\n",
    "\n",
    "### Adding Vectors\n",
    "\n",
    "We can then add vectors by adding the x parts and adding the y parts:\n",
    "\n",
    "![\"\"](images/vector-add3.gif)\n",
    "\n",
    "The vector (8, 13) and the vector (26, 7) add up to the vector (34, 20)\n",
    "\n",
    "Example: add the vectors a = (8, 13) and b = (26, 7)\n",
    "\n",
    "c = a + b\n",
    "\n",
    "c = (8, 13) + (26, 7) = (8+26, 13+7) = (34, 20)\n",
    "\n",
    "### Subtracting Vectors\n",
    "To subtract, first reverse the vector we want to subtract, then add.\n",
    "\n",
    "Example: subtract k = (4, 5) from v = (12, 2)\n",
    "a = v + −k\n",
    "\n",
    "a = (12, 2) + −(4, 5) = (12, 2) + (−4, −5) = (12−4, 2−5) = (8, −3)"
   ]
  },
  {
   "cell_type": "code",
   "execution_count": null,
   "id": "6e73a1f8",
   "metadata": {},
   "outputs": [],
   "source": []
  }
 ],
 "metadata": {
  "kernelspec": {
   "display_name": "Python 3 (ipykernel)",
   "language": "python",
   "name": "python3"
  },
  "language_info": {
   "codemirror_mode": {
    "name": "ipython",
    "version": 3
   },
   "file_extension": ".py",
   "mimetype": "text/x-python",
   "name": "python",
   "nbconvert_exporter": "python",
   "pygments_lexer": "ipython3",
   "version": "3.9.13"
  }
 },
 "nbformat": 4,
 "nbformat_minor": 5
}
