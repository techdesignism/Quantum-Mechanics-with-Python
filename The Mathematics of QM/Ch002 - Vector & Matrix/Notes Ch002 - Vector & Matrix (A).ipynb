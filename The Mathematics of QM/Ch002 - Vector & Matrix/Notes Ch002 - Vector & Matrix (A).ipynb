{
 "cells": [
  {
   "cell_type": "markdown",
   "id": "ca42f3e1",
   "metadata": {},
   "source": [
    "# Ch002 - Vector & Matrix (A)\n",
    "\n",
    "Vectors, in Maths, are objects which have both, magnitude and direction. Magnitude defines the size of the vector. It is represented by a line with an arrow, where the length of the line is the magnitude of the vector and the arrow shows the direction. It is also known as Euclidean vector or Geometric vector or Spatial vector or simply “vector“. \n",
    "\n",
    "![\"\"](images/Vectors.jpg)"
   ]
  },
  {
   "cell_type": "markdown",
   "id": "0a1efc0c",
   "metadata": {},
   "source": [
    "We can add two vectors by joining them head-to-tail:\n",
    "\n",
    "![\"\"](images/vector-add.svg)\n",
    "\n",
    "And it doesn't matter which order we add them, we get the same result:\n",
    "\n",
    "![\"\"](images/vector-add2.gif)\n",
    "\n",
    "Example: A plane is flying along, pointing North, but there is a wind coming from the North-West.\n",
    "\n",
    "![\"\"](images/vector-airplane.svg)\n",
    "\n",
    "The two vectors (the velocity caused by the propeller, and the velocity of the wind) result in a slightly slower ground speed heading a little East of North.\n",
    "\n",
    "If you watched the plane from the ground it would seem to be slipping sideways a little.\n",
    "\n",
    "\n",
    "### Velocity, acceleration, force and many other things are vectors."
   ]
  },
  {
   "cell_type": "markdown",
   "id": "e4cb02f3",
   "metadata": {},
   "source": [
    "# Subtracting\n",
    "\n",
    "We can also subtract one vector from another:\n",
    "\n",
    "first we reverse the direction of the vector we want to subtract,\n",
    "\n",
    "then add them as usual:\n",
    "\n",
    "![\"\"](images/vector-subtract.gif)\n"
   ]
  },
  {
   "cell_type": "markdown",
   "id": "4c1e8c2f",
   "metadata": {},
   "source": [
    "# Notation\n",
    "\n",
    "A vector is often written in bold, like a or b.\n",
    "\n",
    "A vector can also be written as the letters\n",
    "of its head and tail with an arrow above it, like this:\n",
    "\n",
    "![\"\"](images/vector-notation.svg)\n"
   ]
  },
  {
   "cell_type": "markdown",
   "id": "7ea8d5e6",
   "metadata": {},
   "source": [
    "# Calculations\n",
    "\n",
    "The most common way is to first break up vectors into x and y parts, like this:\n",
    "\n",
    "![\"\"](images/vector-xy-components.gif)\n",
    "\n",
    "The vector $a$ is broken up into\n",
    "the two vectors $a_{x}$ and $a_{y}$\n",
    "\n",
    "### Adding Vectors\n",
    "\n",
    "We can then add vectors by adding the x parts and adding the y parts:\n",
    "\n",
    "![\"\"](images/vector-add3.gif)\n",
    "\n",
    "The vector (8, 13) and the vector (26, 7) add up to the vector (34, 20)\n",
    "\n",
    "Example: add the vectors a = (8, 13) and b = (26, 7)\n",
    "\n",
    "c = a + b\n",
    "\n",
    "c = (8, 13) + (26, 7) = (8+26, 13+7) = (34, 20)\n",
    "\n",
    "### Subtracting Vectors\n",
    "To subtract, first reverse the vector we want to subtract, then add.\n",
    "\n",
    "Example: subtract k = (4, 5) from v = (12, 2)\n",
    "a = v + −k\n",
    "\n",
    "a = (12, 2) + −(4, 5) = (12, 2) + (−4, −5) = (12−4, 2−5) = (8, −3)"
   ]
  },
  {
   "cell_type": "code",
   "execution_count": 1,
   "id": "6e73a1f8",
   "metadata": {},
   "outputs": [],
   "source": [
    "from sympy import *\n",
    "#import the libraries of sympy\n",
    "\n",
    "a = Matrix([8,13])\n",
    "\n",
    "b = Matrix([26,7])"
   ]
  },
  {
   "cell_type": "code",
   "execution_count": 2,
   "id": "9b8a2d15",
   "metadata": {},
   "outputs": [
    {
     "data": {
      "text/latex": [
       "$\\displaystyle \\left[\\begin{matrix}8\\\\13\\end{matrix}\\right]$"
      ],
      "text/plain": [
       "Matrix([\n",
       "[ 8],\n",
       "[13]])"
      ]
     },
     "execution_count": 2,
     "metadata": {},
     "output_type": "execute_result"
    }
   ],
   "source": [
    "a"
   ]
  },
  {
   "cell_type": "code",
   "execution_count": 3,
   "id": "ba00a719",
   "metadata": {},
   "outputs": [
    {
     "data": {
      "text/latex": [
       "$\\displaystyle \\left[\\begin{matrix}26\\\\7\\end{matrix}\\right]$"
      ],
      "text/plain": [
       "Matrix([\n",
       "[26],\n",
       "[ 7]])"
      ]
     },
     "execution_count": 3,
     "metadata": {},
     "output_type": "execute_result"
    }
   ],
   "source": [
    "b"
   ]
  },
  {
   "cell_type": "code",
   "execution_count": 4,
   "id": "098ed34b",
   "metadata": {},
   "outputs": [
    {
     "data": {
      "text/latex": [
       "$\\displaystyle \\left[\\begin{matrix}34\\\\20\\end{matrix}\\right]$"
      ],
      "text/plain": [
       "Matrix([\n",
       "[34],\n",
       "[20]])"
      ]
     },
     "execution_count": 4,
     "metadata": {},
     "output_type": "execute_result"
    }
   ],
   "source": [
    "a+b"
   ]
  },
  {
   "cell_type": "code",
   "execution_count": 5,
   "id": "030c15e8",
   "metadata": {},
   "outputs": [
    {
     "data": {
      "text/latex": [
       "$\\displaystyle \\left[\\begin{matrix}-18\\\\6\\end{matrix}\\right]$"
      ],
      "text/plain": [
       "Matrix([\n",
       "[-18],\n",
       "[  6]])"
      ]
     },
     "execution_count": 5,
     "metadata": {},
     "output_type": "execute_result"
    }
   ],
   "source": [
    "a-b"
   ]
  },
  {
   "cell_type": "markdown",
   "id": "be6e6553",
   "metadata": {},
   "source": [
    "# Magnitude(Norm) of a Vector\n",
    "\n",
    "The magnitude of a vector is shown by two vertical bars on either side of the vector:\n",
    "\n",
    "|a|\n",
    "\n",
    "OR it can be written with double vertical bars (so as not to confuse it with absolute value):\n",
    "\n",
    "||a||\n",
    "\n",
    "We use Pythagoras' theorem to calculate it:\n",
    "\n",
    "$|a| =  \\sqrt{x^2 + y^2}$\n",
    "\n",
    "Example: what is the magnitude of the vector b = (6, 8) ?\n",
    "|b| = $\\sqrt{6^2 + 8^2}$ = $\\sqrt{36+64}$ = $\\sqrt{100}$ = $10$\n",
    "\n"
   ]
  },
  {
   "cell_type": "markdown",
   "id": "1e089fcb",
   "metadata": {},
   "source": [
    "# Vector Notation\n",
    "\n",
    "As we know already, a vector has both magnitude and direction. In the above figure, the length of the line AB is the magnitude and head of the arrow points towards the direction.\n",
    "\n",
    "![\"\"](images/examples.jpg)\n",
    "\n",
    "Vectors between two points A and B is given as $\\vec{AB}$\n",
    "\n",
    "# Unit Vector\n",
    "\n",
    "A vector with magnitude 1 is called a Unit Vector.\n",
    "\n",
    "Symbolically, it is represented by a cap or hat (^).\n",
    "\n",
    "If a is vector of arbitrary length and its magnitude is ||a||, then the unit vector is given by:\n",
    "\n",
    "$\\hat{a} = \\frac{a}{|a|}$\n",
    "\n",
    " \n",
    "\n"
   ]
  },
  {
   "cell_type": "code",
   "execution_count": 6,
   "id": "2f7bf6b1",
   "metadata": {},
   "outputs": [],
   "source": [
    "a = Matrix([-8,4])\n",
    "\n",
    "\n",
    "a_magnitude = a.norm()\n",
    "\n",
    "a_unit_vector = a/a_magnitude"
   ]
  },
  {
   "cell_type": "code",
   "execution_count": 7,
   "id": "8293ccbb",
   "metadata": {},
   "outputs": [
    {
     "data": {
      "text/latex": [
       "$\\displaystyle \\left[\\begin{matrix}-8\\\\4\\end{matrix}\\right]$"
      ],
      "text/plain": [
       "Matrix([\n",
       "[-8],\n",
       "[ 4]])"
      ]
     },
     "execution_count": 7,
     "metadata": {},
     "output_type": "execute_result"
    }
   ],
   "source": [
    "a"
   ]
  },
  {
   "cell_type": "code",
   "execution_count": 8,
   "id": "e0159a4d",
   "metadata": {},
   "outputs": [
    {
     "data": {
      "text/latex": [
       "$\\displaystyle 4 \\sqrt{5}$"
      ],
      "text/plain": [
       "4*sqrt(5)"
      ]
     },
     "execution_count": 8,
     "metadata": {},
     "output_type": "execute_result"
    }
   ],
   "source": [
    "a_magnitude"
   ]
  },
  {
   "cell_type": "code",
   "execution_count": 9,
   "id": "85aa5c84",
   "metadata": {},
   "outputs": [
    {
     "data": {
      "text/latex": [
       "$\\displaystyle \\left[\\begin{matrix}- \\frac{2 \\sqrt{5}}{5}\\\\\\frac{\\sqrt{5}}{5}\\end{matrix}\\right]$"
      ],
      "text/plain": [
       "Matrix([\n",
       "[-2*sqrt(5)/5],\n",
       "[   sqrt(5)/5]])"
      ]
     },
     "execution_count": 9,
     "metadata": {},
     "output_type": "execute_result"
    }
   ],
   "source": [
    "a_unit_vector"
   ]
  },
  {
   "cell_type": "markdown",
   "id": "2eea2dcf",
   "metadata": {},
   "source": [
    "# Zero Vector\n",
    "\n",
    "A vector with zero magnitudes is called a zero vector. The coordinates of zero vector are given by (0,0) and it is usually represented by 0 with an arrow (→) at the top or just 0. \n",
    "\n",
    "The sum of any vector with zero vector is equal to the vector itself, i.e., if ‘a’ is any vector, then;\n",
    "\n",
    "0+a = a\n",
    "\n",
    "Note: There is no unit vector for zero vector and it cannot be normalised."
   ]
  },
  {
   "cell_type": "code",
   "execution_count": 10,
   "id": "7d4f2371",
   "metadata": {},
   "outputs": [
    {
     "data": {
      "text/latex": [
       "$\\displaystyle \\left[\\begin{matrix}0\\\\0\\end{matrix}\\right]$"
      ],
      "text/plain": [
       "Matrix([\n",
       "[0],\n",
       "[0]])"
      ]
     },
     "execution_count": 10,
     "metadata": {},
     "output_type": "execute_result"
    }
   ],
   "source": [
    "z = Matrix([0,0])\n",
    "\n",
    "z"
   ]
  },
  {
   "cell_type": "markdown",
   "id": "8643e833",
   "metadata": {},
   "source": [
    "# Multiplying a Vector by a Scalar\n",
    "\n",
    "When we multiply a vector by a scalar it is called \"scaling\" a vector, because we change how big or small the vector is.\n",
    "\n",
    "Example: multiply the vector m = (7, 3) by the scalar 3\n",
    "\n",
    "a = 3m = (3×7, 3×3) = (21, 9)\n",
    "\n",
    "It still points in the same direction, but is 3 times longer\n",
    "\n",
    "![\"\"](images/vector-scaling.gif)"
   ]
  },
  {
   "cell_type": "code",
   "execution_count": 11,
   "id": "175b418d",
   "metadata": {},
   "outputs": [
    {
     "data": {
      "text/latex": [
       "$\\displaystyle \\left[\\begin{matrix}21\\\\9\\end{matrix}\\right]$"
      ],
      "text/plain": [
       "Matrix([\n",
       "[21],\n",
       "[ 9]])"
      ]
     },
     "execution_count": 11,
     "metadata": {},
     "output_type": "execute_result"
    }
   ],
   "source": [
    "m = Matrix([7,3])\n",
    "\n",
    "3*m"
   ]
  },
  {
   "cell_type": "markdown",
   "id": "6a4b7a06",
   "metadata": {},
   "source": [
    "# Multiplying a Vector by a Vector\n",
    "\n",
    "How do we multiply two vectors together? There is more than one way:\n",
    "\n",
    "- Dot Product (the result is a scalar).\n",
    "\n",
    "- Cross Product (the result is a vector)."
   ]
  },
  {
   "cell_type": "markdown",
   "id": "f40876e7",
   "metadata": {},
   "source": [
    "# Dot Product\n",
    "\n",
    "The Dot Product is written using a central dot:\n",
    "\n",
    "$\\vec{a} · \\vec{b}$\n",
    "This means the Dot Product of $\\vec{a}$ and $\\vec{b}$\n",
    "\n",
    "We can calculate the Dot Product of two vectors this way:\n",
    "\n",
    "![\"\"](images/dot-product-1.svg)\n",
    "\n",
    "$\\vec{a} · \\vec{b} = |\\vec{a}| × |\\vec{b}| × cos(θ)$\n",
    "\n",
    "Where:\n",
    "\n",
    "|$\\vec{a}$| is the magnitude (length) of vector $\\vec{a}$\n",
    "\n",
    "|$\\vec{b}$| is the magnitude (length) of vector $\\vec{b}$\n",
    "\n",
    "θ is the angle between $\\vec{a}$ and $\\vec{b}$\n",
    "\n",
    "\n",
    "#### OR we can calculate it this way:\n",
    "\n",
    "\n",
    "$\\vec{a}$ · $\\vec{b}$ = $a_{x}$ × $b_{x}$ + $a_{y}$ × $b_{y}$\n",
    "\n",
    "So we multiply the x's, multiply the y's, then add."
   ]
  },
  {
   "cell_type": "code",
   "execution_count": 42,
   "id": "3a1e5bd2",
   "metadata": {},
   "outputs": [],
   "source": [
    "a = Matrix([7,3])\n",
    "b = Matrix([-3,8])"
   ]
  },
  {
   "cell_type": "code",
   "execution_count": 43,
   "id": "120eac4b",
   "metadata": {},
   "outputs": [
    {
     "data": {
      "text/latex": [
       "$\\displaystyle \\left[\\begin{matrix}0\\\\0\\end{matrix}\\right]$"
      ],
      "text/plain": [
       "Matrix([\n",
       "[0],\n",
       "[0]])"
      ]
     },
     "execution_count": 43,
     "metadata": {},
     "output_type": "execute_result"
    }
   ],
   "source": [
    "zero_vector = a-a\n",
    "zero_vector"
   ]
  },
  {
   "cell_type": "code",
   "execution_count": 44,
   "id": "80bd24a2",
   "metadata": {},
   "outputs": [
    {
     "data": {
      "text/latex": [
       "$\\displaystyle \\operatorname{acos}{\\left(\\frac{3 \\sqrt{4234}}{4234} \\right)}$"
      ],
      "text/plain": [
       "acos(3*sqrt(4234)/4234)"
      ]
     },
     "execution_count": 44,
     "metadata": {},
     "output_type": "execute_result"
    }
   ],
   "source": [
    "\n",
    "line_a = Line(zero_vector, a)\n",
    "line_b = Line(zero_vector, b)\n",
    "  \n",
    "#angle between a and b\n",
    "rad = line_a.angle_between(line_b)\n",
    "rad"
   ]
  },
  {
   "cell_type": "code",
   "execution_count": 45,
   "id": "2e8e1e8e",
   "metadata": {},
   "outputs": [
    {
     "data": {
      "text/latex": [
       "$\\displaystyle 3$"
      ],
      "text/plain": [
       "3"
      ]
     },
     "execution_count": 45,
     "metadata": {},
     "output_type": "execute_result"
    }
   ],
   "source": [
    "a.norm() * b.norm() * cos( rad )\n",
    "\n",
    "#|a| * |b| * cos(θ)"
   ]
  },
  {
   "cell_type": "code",
   "execution_count": 46,
   "id": "eb0136cb",
   "metadata": {},
   "outputs": [
    {
     "data": {
      "text/latex": [
       "$\\displaystyle 3$"
      ],
      "text/plain": [
       "3"
      ]
     },
     "execution_count": 46,
     "metadata": {},
     "output_type": "execute_result"
    }
   ],
   "source": [
    "a.dot(b)\n",
    "\n",
    "\n",
    "#a·b is equal to"
   ]
  },
  {
   "cell_type": "code",
   "execution_count": 47,
   "id": "a1254e8b",
   "metadata": {},
   "outputs": [
    {
     "data": {
      "text/latex": [
       "$\\displaystyle 3$"
      ],
      "text/plain": [
       "3"
      ]
     },
     "execution_count": 47,
     "metadata": {},
     "output_type": "execute_result"
    }
   ],
   "source": [
    "a[0]*b[0] + a[1]*b[1]"
   ]
  },
  {
   "cell_type": "markdown",
   "id": "efbb9439",
   "metadata": {},
   "source": [
    "$\\vec{a} · \\vec{b} = |\\vec{a}| × |\\vec{b}| × cos(θ)$ = $a_{x}$ × $b_{x}$ + $a_{y}$ × $b_{y}$\n",
    "\n",
    "\n",
    "# Right Angles\n",
    "\n",
    "When two vectors are at right angles to each other the dot product is zero.\n",
    "\n",
    "$\\because cos(\\frac{\\pi}{2}) = cos(90^{ \\circ }) = 0$\n",
    "\n",
    "![\"\"](images/unitcircle.jpg)\n",
    "\n",
    "![\"\"](images/dot-product-right-angle.gif)"
   ]
  },
  {
   "cell_type": "code",
   "execution_count": 48,
   "id": "574058ec",
   "metadata": {},
   "outputs": [
    {
     "data": {
      "text/latex": [
       "$\\displaystyle 0$"
      ],
      "text/plain": [
       "0"
      ]
     },
     "execution_count": 48,
     "metadata": {},
     "output_type": "execute_result"
    }
   ],
   "source": [
    "a = Matrix([-12,16])\n",
    "b = Matrix([12,9])\n",
    "\n",
    "a.dot(b)"
   ]
  },
  {
   "cell_type": "code",
   "execution_count": 49,
   "id": "0235f371",
   "metadata": {},
   "outputs": [
    {
     "data": {
      "text/latex": [
       "$\\displaystyle 0$"
      ],
      "text/plain": [
       "0"
      ]
     },
     "execution_count": 49,
     "metadata": {},
     "output_type": "execute_result"
    }
   ],
   "source": [
    "zero_vector = a-a\n",
    "line_a = Line(zero_vector, a)\n",
    "line_b = Line(zero_vector, b)\n",
    "  \n",
    "#angle between a and b\n",
    "rad = line_a.angle_between(line_b)\n",
    "\n",
    "#|a| * |b| * cos(θ)\n",
    "a.norm() * b.norm() * cos( rad )"
   ]
  },
  {
   "cell_type": "markdown",
   "id": "4ae7520a",
   "metadata": {},
   "source": [
    "# Cross Product\n",
    "\n",
    "The magnitude (length) of the cross product equals the area of a parallelogram with vectors a and b for sides:\n",
    "\n",
    "\n",
    "![\"\"](images/cross-product-area.svg)\n",
    "\n",
    "- zero in length when vectors a and b point in the same, or opposite direction\n",
    "- reaches maximum length when vectors a and b are at right angles\n",
    "\n",
    "a × b = |a| |b| sin(θ) n\n",
    "\n",
    "- |a| is the magnitude (length) of vector a\n",
    "- |b| is the magnitude (length) of vector b\n",
    "- θ is the angle between a and b\n",
    "- n is the unit vector at right angles to both a and b\n",
    "\n",
    "#### OR we can calculate it this way:\n",
    "\n",
    "\n",
    "![\"\"](images/cross-product-components.svg)\n",
    "\n",
    "When a and b start at the origin point (0,0,0), the Cross Product will end at:\n",
    "\n",
    "\n",
    "$c_x = a_y b_z − a_z b_y$\n",
    "\n",
    "$c_y = a_z b_x − a_x b_z$\n",
    "\n",
    "$c_z = a_x b_y − a_y b_x$\n",
    "\n",
    "####  Which Direction?\n",
    "\n",
    "The cross product could point in the completely opposite direction and still be at right angles to the two other vectors, so we have the:\n",
    "\n",
    "\"Right Hand Rule\"\n",
    "\n",
    "With your right-hand, point your index finger along vector a, and point your middle finger along vector b: the cross product goes in the direction of your thumb.\n",
    "\n",
    "![\"\"](images/right-hand-rule.jpg)\n",
    "\n",
    "\n",
    "#### Example: \n",
    "The cross product of a = (2,3,4) and b = (5,6,7)\n",
    "\n",
    "Answer: a × b = (−3,6,−3)"
   ]
  },
  {
   "cell_type": "code",
   "execution_count": 50,
   "id": "e8ed6364",
   "metadata": {},
   "outputs": [
    {
     "data": {
      "text/latex": [
       "$\\displaystyle \\left[\\begin{matrix}-3\\\\6\\\\-3\\end{matrix}\\right]$"
      ],
      "text/plain": [
       "Matrix([\n",
       "[-3],\n",
       "[ 6],\n",
       "[-3]])"
      ]
     },
     "execution_count": 50,
     "metadata": {},
     "output_type": "execute_result"
    }
   ],
   "source": [
    "a = Matrix([2,3,4])\n",
    "b = Matrix([5,6,7])\n",
    "\n",
    "a.cross(b)"
   ]
  },
  {
   "cell_type": "code",
   "execution_count": null,
   "id": "15acb5be",
   "metadata": {},
   "outputs": [],
   "source": []
  }
 ],
 "metadata": {
  "kernelspec": {
   "display_name": "Python 3 (ipykernel)",
   "language": "python",
   "name": "python3"
  },
  "language_info": {
   "codemirror_mode": {
    "name": "ipython",
    "version": 3
   },
   "file_extension": ".py",
   "mimetype": "text/x-python",
   "name": "python",
   "nbconvert_exporter": "python",
   "pygments_lexer": "ipython3",
   "version": "3.9.13"
  }
 },
 "nbformat": 4,
 "nbformat_minor": 5
}
