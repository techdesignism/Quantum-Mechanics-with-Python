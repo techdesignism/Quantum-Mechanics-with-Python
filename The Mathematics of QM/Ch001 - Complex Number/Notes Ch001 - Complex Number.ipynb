{
 "cells": [
  {
   "cell_type": "markdown",
   "id": "ca8a3424",
   "metadata": {},
   "source": [
    "# Ch001 - Complex Number\n"
   ]
  },
  {
   "cell_type": "markdown",
   "id": "c204baac",
   "metadata": {},
   "source": [
    "Complex numbers are the numbers that are expressed in the form of a+ib where, a,b are real numbers and  ‘$i$’ is an imaginary number called “iota”. \n",
    "\n",
    "The value of i = ($\\sqrt{-1}$). For example, $2+3i$ is a complex number, \n",
    "where $2$ is a real number (Re) and $3i$ is an imaginary number (Im). "
   ]
  },
  {
   "cell_type": "markdown",
   "id": "8b2a8977",
   "metadata": {},
   "source": [
    "### Combination of both the real number and imaginary number is a complex number.\n",
    "\n",
    "\n"
   ]
  },
  {
   "cell_type": "markdown",
   "id": "3440b92c",
   "metadata": {},
   "source": [
    "Examples of complex numbers:\n",
    "\n",
    "$1 + j$\n",
    "\n",
    "$-13 – 3i$\n",
    "\n",
    "$0.89 + 1.2i$\n",
    "\n",
    "$\\sqrt{5}$ + $\\sqrt{2} i$\n",
    "\n",
    "An imaginary number is usually represented by ‘i’ or ‘j’, which is equal to $\\sqrt{-1}$. Therefore, the square of the imaginary number gives a negative value. \n",
    "\n",
    "Since, $i$ = $\\sqrt{-1}$, so, $i^2$ = $-1$"
   ]
  },
  {
   "cell_type": "markdown",
   "id": "219a8408",
   "metadata": {},
   "source": [
    "![\"\"](images/Complex-Numbers-in-Maths.png)"
   ]
  },
  {
   "cell_type": "markdown",
   "id": "f54d9f18",
   "metadata": {},
   "source": [
    "### We can use Sympy to calculate the complex numbers\n",
    "\n",
    "SymPy is a Python library for symbolic mathematics. It aims to become a full-featured computer algebra system (CAS) while keeping the code as simple as possible in order to be comprehensible and easily extensible. SymPy is written entirely in Python."
   ]
  },
  {
   "cell_type": "code",
   "execution_count": 1,
   "id": "052b342c",
   "metadata": {},
   "outputs": [],
   "source": [
    "from sympy import *\n",
    "#import the libraries of sympy\n",
    "\n",
    "a,b,c,d,x,y = symbols(\"a b c d x y\", real=True)  \n",
    "#define the variable\n",
    "\n",
    "complex_num1 = a+b*I\n",
    "complex_num2 = b+a*I\n",
    "complex_num3 = x+y*I\n",
    "#define two complex numbers, we can use \"I\" to represent complex number \"i\""
   ]
  },
  {
   "cell_type": "code",
   "execution_count": 2,
   "id": "7cd66b3d",
   "metadata": {},
   "outputs": [
    {
     "data": {
      "text/latex": [
       "$\\displaystyle a + i b$"
      ],
      "text/plain": [
       "a + I*b"
      ]
     },
     "execution_count": 2,
     "metadata": {},
     "output_type": "execute_result"
    }
   ],
   "source": [
    "complex_num1\n",
    "#a is real part, b is imaginary part"
   ]
  },
  {
   "cell_type": "code",
   "execution_count": 3,
   "id": "1b2a0523",
   "metadata": {},
   "outputs": [
    {
     "data": {
      "text/latex": [
       "$\\displaystyle i a + b$"
      ],
      "text/plain": [
       "I*a + b"
      ]
     },
     "execution_count": 3,
     "metadata": {},
     "output_type": "execute_result"
    }
   ],
   "source": [
    "complex_num2\n",
    "#b is real part, a is imaginary part"
   ]
  },
  {
   "cell_type": "code",
   "execution_count": 4,
   "id": "ad00ac27",
   "metadata": {},
   "outputs": [
    {
     "data": {
      "text/latex": [
       "$\\displaystyle x + i y$"
      ],
      "text/plain": [
       "x + I*y"
      ]
     },
     "execution_count": 4,
     "metadata": {},
     "output_type": "execute_result"
    }
   ],
   "source": [
    "complex_num3\n",
    "#x is real part, y is imaginary part"
   ]
  },
  {
   "cell_type": "markdown",
   "id": "43d4fb89",
   "metadata": {},
   "source": [
    "# Graphical representation\n",
    "\n",
    "In the graph below, check the representation of complex numbers along the axes. Here we can see, the x-axis represents real part and y represents the imaginary part."
   ]
  },
  {
   "cell_type": "markdown",
   "id": "1e0a316d",
   "metadata": {},
   "source": [
    "![\"\"](images/Complex-Numbers-in-Maths-1.png)"
   ]
  },
  {
   "cell_type": "markdown",
   "id": "20cadac3",
   "metadata": {},
   "source": [
    "Let us see an example here. If we have to plot a graph of complex number 3 + 4i, then:\n",
    "\n",
    "![\"\"](images/Complex-Numbers-in-Maths-2.png)"
   ]
  },
  {
   "cell_type": "code",
   "execution_count": 5,
   "id": "c398d109",
   "metadata": {},
   "outputs": [
    {
     "data": {
      "text/latex": [
       "$\\displaystyle 4 - 8 i$"
      ],
      "text/plain": [
       "4 - 8*I"
      ]
     },
     "execution_count": 5,
     "metadata": {},
     "output_type": "execute_result"
    }
   ],
   "source": [
    "complex_num4 = 4-8*I\n",
    "complex_num4"
   ]
  },
  {
   "cell_type": "code",
   "execution_count": 6,
   "id": "bf962b67",
   "metadata": {},
   "outputs": [
    {
     "data": {
      "text/latex": [
       "$\\displaystyle 4$"
      ],
      "text/plain": [
       "4"
      ]
     },
     "execution_count": 6,
     "metadata": {},
     "output_type": "execute_result"
    }
   ],
   "source": [
    "re(complex_num4)\n",
    "#return the real part"
   ]
  },
  {
   "cell_type": "code",
   "execution_count": 7,
   "id": "236ee481",
   "metadata": {},
   "outputs": [
    {
     "data": {
      "text/latex": [
       "$\\displaystyle -8$"
      ],
      "text/plain": [
       "-8"
      ]
     },
     "execution_count": 7,
     "metadata": {},
     "output_type": "execute_result"
    }
   ],
   "source": [
    "im(complex_num4)\n",
    "#return the imaginary part"
   ]
  },
  {
   "cell_type": "code",
   "execution_count": 8,
   "id": "ee8b9782",
   "metadata": {},
   "outputs": [
    {
     "data": {
      "image/png": "[encoded data removed]",
      "text/plain": [
       "<Figure size 640x480 with 1 Axes>"
      ]
     },
     "metadata": {},
     "output_type": "display_data"
    }
   ],
   "source": [
    "from matplotlib import pyplot as plt\n",
    "\n",
    "x = re(complex_num4)\n",
    "y = im(complex_num4)\n",
    "\n",
    "plt.grid()\n",
    "plt.plot(x, y, marker=\"o\", markersize=20)\n",
    "plt.show()"
   ]
  },
  {
   "cell_type": "markdown",
   "id": "413eb02b",
   "metadata": {},
   "source": [
    "# Absolute Value"
   ]
  },
  {
   "cell_type": "markdown",
   "id": "fc4d137d",
   "metadata": {},
   "source": [
    "The absolute value of a real number is the number itself. The absolute value of x is represented by modulus, i.e. |x|. Hence, the modulus of any value always gives a positive value, such that;\n",
    "\n",
    "|3| = 3\n",
    "\n",
    "|-3| = 3\n",
    "\n",
    "Now, in case of complex numbers, finding the modulus has a different method.\n",
    "\n",
    "Suppose, $z = x+iy $ is a complex number. Then, mod of z, will be:\n",
    "\n",
    "|z| = $\\sqrt{x^2+y^2}$"
   ]
  },
  {
   "cell_type": "markdown",
   "id": "052c5580",
   "metadata": {},
   "source": [
    "This expression is obtained when we apply the Pythagorean theorem in a complex plane. Hence, mod of complex number, z is extended from 0 to z and mod of real numbers x and y is extended from 0 to x and 0 to y respectively. Now these values form a right triangle, where 0 is the vertex of the acute angle. Now, applying Pythagoras theorem,\n",
    "\n",
    "$|z|^2 = |x|^2+|y|^2$\n",
    "\n",
    "$|z|^2 = x^2 + y^2$\n",
    "\n",
    "$|z| = \\sqrt{x^2+y^2}$"
   ]
  },
  {
   "cell_type": "code",
   "execution_count": 9,
   "id": "f8e3d308",
   "metadata": {},
   "outputs": [
    {
     "data": {
      "text/latex": [
       "$\\displaystyle 4 \\sqrt{5}$"
      ],
      "text/plain": [
       "4*sqrt(5)"
      ]
     },
     "execution_count": 9,
     "metadata": {},
     "output_type": "execute_result"
    }
   ],
   "source": [
    "complex_num4 = 4-8*I\n",
    "#define a complex number\n",
    "\n",
    "abs(complex_num4)\n",
    "#calculate the absolute value"
   ]
  },
  {
   "cell_type": "markdown",
   "id": "227fdf5e",
   "metadata": {},
   "source": [
    "# Addition, Subtraction, Multiplication, Division"
   ]
  },
  {
   "cell_type": "code",
   "execution_count": 10,
   "id": "ecb76bb2",
   "metadata": {},
   "outputs": [],
   "source": [
    "a,b,c,d,x,y = symbols(\"a b c d x y\", real=True)  \n",
    "#define the variable"
   ]
  },
  {
   "cell_type": "markdown",
   "id": "a33efa66",
   "metadata": {},
   "source": [
    "### Addition\n",
    "\n",
    "$(a + ib) + (c + id) = (a + c) + i(b + d)$"
   ]
  },
  {
   "cell_type": "code",
   "execution_count": 11,
   "id": "f04f6246",
   "metadata": {},
   "outputs": [
    {
     "data": {
      "text/latex": [
       "$\\displaystyle a + c + i \\left(b + d\\right)$"
      ],
      "text/plain": [
       "a + c + I*(b + d)"
      ]
     },
     "execution_count": 11,
     "metadata": {},
     "output_type": "execute_result"
    }
   ],
   "source": [
    "expr = (a+I*b)+(c+d*I)\n",
    "\n",
    "expand_complex(expr)"
   ]
  },
  {
   "cell_type": "markdown",
   "id": "d2ea3866",
   "metadata": {},
   "source": [
    "### Subtraction\n",
    "\n",
    "$(a + ib) – (c + id) = (a – c) + i(b – d)$"
   ]
  },
  {
   "cell_type": "code",
   "execution_count": 12,
   "id": "54d03b31",
   "metadata": {},
   "outputs": [
    {
     "data": {
      "text/latex": [
       "$\\displaystyle a - c + i \\left(b - d\\right)$"
      ],
      "text/plain": [
       "a - c + I*(b - d)"
      ]
     },
     "execution_count": 12,
     "metadata": {},
     "output_type": "execute_result"
    }
   ],
   "source": [
    "expr = (a+I*b)-(c+d*I)\n",
    "\n",
    "expand_complex(expr)"
   ]
  },
  {
   "cell_type": "markdown",
   "id": "e29b755e",
   "metadata": {},
   "source": [
    "### Multiplication\n",
    "\n",
    "When two complex numbers are multiplied by each other, the multiplication process should be similar to the multiplication of two binomials. It means that the FOIL method (Distributive multiplication process) is used.\n",
    "\n",
    "$(a + ib). (c + id) = (ac – bd) + i(ad + bc)$"
   ]
  },
  {
   "cell_type": "code",
   "execution_count": 13,
   "id": "3af1fa8e",
   "metadata": {},
   "outputs": [
    {
     "data": {
      "text/latex": [
       "$\\displaystyle a c - b d + i \\left(a d + b c\\right)$"
      ],
      "text/plain": [
       "a*c - b*d + I*(a*d + b*c)"
      ]
     },
     "execution_count": 13,
     "metadata": {},
     "output_type": "execute_result"
    }
   ],
   "source": [
    "expr = (a+I*b)*(c+d*I)\n",
    "\n",
    "expand_complex(expr)"
   ]
  },
  {
   "cell_type": "markdown",
   "id": "56905be0",
   "metadata": {},
   "source": [
    "### Division\n",
    "\n",
    "The division of two complex numbers can be performed by multiplying the numerator and denominator by its conjugate value of the denominator, and then applying the FOIL Method.\n",
    "\n",
    "$(a + ib) / (c + id) = (ac+bd)/ (c^2 + d^2) + i(bc – ad) / (c^2 + d^2)$"
   ]
  },
  {
   "cell_type": "code",
   "execution_count": 14,
   "id": "4e71d4c7",
   "metadata": {},
   "outputs": [
    {
     "data": {
      "text/latex": [
       "$\\displaystyle \\frac{a c}{c^{2} + d^{2}} + \\frac{b d}{c^{2} + d^{2}} + i \\left(- \\frac{a d}{c^{2} + d^{2}} + \\frac{b c}{c^{2} + d^{2}}\\right)$"
      ],
      "text/plain": [
       "a*c/(c**2 + d**2) + b*d/(c**2 + d**2) + I*(-a*d/(c**2 + d**2) + b*c/(c**2 + d**2))"
      ]
     },
     "execution_count": 14,
     "metadata": {},
     "output_type": "execute_result"
    }
   ],
   "source": [
    "expr = (a+I*b)/(c+d*I)\n",
    "\n",
    "expand_complex(expr)"
   ]
  },
  {
   "cell_type": "markdown",
   "id": "b63872c5",
   "metadata": {},
   "source": [
    "# Conjugates of Complex Numbers\n",
    "\n",
    "\n",
    "![\"\"](images/conjugate-of-complex-number.png)\n",
    "\n",
    "Consider a complex number $z = a + ib$. The conjugate $\\overline{z}$ of this complex number is denoted by\n",
    "\n",
    "$\\overline{z} = a-ib$\n",
    "\n",
    "---\n",
    "\n",
    "Let $z = re^{i\\theta}$\n",
    "\n",
    "$\\overline{z} = re^{-i\\theta}$"
   ]
  },
  {
   "cell_type": "code",
   "execution_count": 15,
   "id": "1814d745",
   "metadata": {},
   "outputs": [
    {
     "data": {
      "text/latex": [
       "$\\displaystyle 4 - 6 i$"
      ],
      "text/plain": [
       "4 - 6*I"
      ]
     },
     "execution_count": 15,
     "metadata": {},
     "output_type": "execute_result"
    }
   ],
   "source": [
    "conjugate(4+6*I)"
   ]
  },
  {
   "cell_type": "code",
   "execution_count": 32,
   "id": "8feffb33",
   "metadata": {},
   "outputs": [
    {
     "data": {
      "text/latex": [
       "$\\displaystyle 7 e^{- 3 i}$"
      ],
      "text/plain": [
       "7*exp(-3*I)"
      ]
     },
     "execution_count": 32,
     "metadata": {},
     "output_type": "execute_result"
    }
   ],
   "source": [
    "conjugate(7*exp(3*I))"
   ]
  },
  {
   "cell_type": "markdown",
   "id": "745398df",
   "metadata": {},
   "source": [
    "# Power of Iota (i)\n",
    "\n",
    "Depending upon the power of “i”, it can take the following values;\n",
    "\n",
    "$i^{4k+1} = i.i^{4k+2} = 1 $\n",
    "\n",
    "Where k can have an integral value (positive or negative).\n",
    "\n",
    "Similarly, we can find for the negative power of i, which are as follows;\n",
    "\n",
    "$i^{-1} = 1 / i$\n",
    "\n",
    "\n",
    "Note: $\\sqrt{-1} × \\sqrt{-1} $ = $\\sqrt{-1  × -1}$ = $\\sqrt{1}$ = $1$ contradicts to the fact that $i^2 = -1$.\n",
    "\n",
    "Therefore, for an imaginary number, $\\sqrt{a} × \\sqrt{b}$ is not equal to $\\sqrt{ab}$.\n",
    "\n",
    "\n",
    "\n"
   ]
  },
  {
   "cell_type": "markdown",
   "id": "49db4431",
   "metadata": {},
   "source": [
    "This signifies that \n",
    "i\n",
    " repeats its values after every 4th power. We can generalize this fact to represent this pattern (where n is any integer), as,\n",
    "\n",
    "$i^{4n} = 1$"
   ]
  },
  {
   "cell_type": "code",
   "execution_count": 16,
   "id": "2dc86974",
   "metadata": {},
   "outputs": [
    {
     "name": "stdout",
     "output_type": "stream",
     "text": [
      "1\n",
      "1\n",
      "1\n"
     ]
    }
   ],
   "source": [
    "print( I**(4*1) )\n",
    "\n",
    "print( I**(4*2) )\n",
    "\n",
    "print( I**(4*3) )"
   ]
  },
  {
   "cell_type": "markdown",
   "id": "d6566b92",
   "metadata": {},
   "source": [
    "\n",
    "$i^{4n+1} = i$\n"
   ]
  },
  {
   "cell_type": "code",
   "execution_count": 17,
   "id": "90b4bda3",
   "metadata": {},
   "outputs": [
    {
     "name": "stdout",
     "output_type": "stream",
     "text": [
      "I\n",
      "I\n",
      "I\n"
     ]
    }
   ],
   "source": [
    "print( I**(4*1+1) )\n",
    "\n",
    "print( I**(4*2+1) )\n",
    "\n",
    "print( I**(4*3+1) )"
   ]
  },
  {
   "cell_type": "markdown",
   "id": "7468fd11",
   "metadata": {},
   "source": [
    "\n",
    "$i^{4n+2} = -1$\n",
    "\n"
   ]
  },
  {
   "cell_type": "code",
   "execution_count": 18,
   "id": "45b06b8b",
   "metadata": {},
   "outputs": [
    {
     "name": "stdout",
     "output_type": "stream",
     "text": [
      "-1\n",
      "-1\n",
      "-1\n"
     ]
    }
   ],
   "source": [
    "print( I**(4*1+2) )\n",
    "\n",
    "print( I**(4*2+2) )\n",
    "\n",
    "print( I**(4*3+2) )"
   ]
  },
  {
   "cell_type": "markdown",
   "id": "22243d3a",
   "metadata": {},
   "source": [
    "$i^{4n+3} = -i$"
   ]
  },
  {
   "cell_type": "code",
   "execution_count": 19,
   "id": "b526359d",
   "metadata": {},
   "outputs": [
    {
     "name": "stdout",
     "output_type": "stream",
     "text": [
      "-I\n",
      "-I\n",
      "-I\n"
     ]
    }
   ],
   "source": [
    "print( I**(4*1+3) )\n",
    "\n",
    "print( I**(4*2+3) )\n",
    "\n",
    "print( I**(4*3+3) )"
   ]
  },
  {
   "cell_type": "markdown",
   "id": "3cd171fc",
   "metadata": {},
   "source": [
    "# Euler's Formula | Exponential Form of Complex Numbers"
   ]
  },
  {
   "cell_type": "markdown",
   "id": "12ef2746",
   "metadata": {},
   "source": [
    "Euler's Formula for Complex Numbers:\n",
    "\n",
    "$e^{i \\pi} + 1 = 0$\n",
    "\n",
    "The parts of the formula represent key components in mathematics. The formula combines components that usually do not appear together.\n",
    "\n",
    "e represents the base of the natural logarithm\n",
    "\n",
    "i represents the imaginary unit\n",
    "\n",
    "$\\pi$  represents the ratio of the circumference to the diameter of a circle"
   ]
  },
  {
   "cell_type": "markdown",
   "id": "5c48aed4",
   "metadata": {},
   "source": [
    "This formula is also called Euler's Identity. It is derived from the original formula, which contains trigonometric functions cosine, sine, and $\\theta$\n",
    ". The original formula is written as follows:\n",
    "\n",
    "$e^{i \\theta} = cos\\theta + i sin \\theta$"
   ]
  },
  {
   "cell_type": "markdown",
   "id": "787c4f2c",
   "metadata": {},
   "source": [
    "### Exponential Form (Euler's Notation)\n",
    "\n",
    "$z = r e^{i \\theta}$\n",
    "\n",
    "### Polar Form\n",
    "\n",
    "$z = r \\angle \\theta$\n",
    "\n",
    "![\"\"](images/polar-coordinates-r-phi.svg3406642667822480950.png)\n",
    "\n",
    "### Polar Representation of Complex Numbers\n",
    "\n",
    "$z= x+iy$, then\n",
    "$r = |z| = \\sqrt{x^2+y^2}$ and $\\theta = arg(z) = tan^{-1}(\\frac{y}{x})$"
   ]
  },
  {
   "cell_type": "code",
   "execution_count": 20,
   "id": "06a12203",
   "metadata": {},
   "outputs": [
    {
     "data": {
      "text/latex": [
       "$\\displaystyle \\sqrt{5353} e^{- i \\operatorname{atan}{\\left(\\frac{72}{13} \\right)}}$"
      ],
      "text/plain": [
       "sqrt(5353)*exp(-I*atan(72/13))"
      ]
     },
     "execution_count": 20,
     "metadata": {},
     "output_type": "execute_result"
    }
   ],
   "source": [
    "eq = 13-72*I\n",
    "\n",
    "euler_eq = abs(eq)*exp(I * arg(eq))\n",
    "#change complex form to euler form\n",
    "#atan = arctan\n",
    "\n",
    "euler_eq"
   ]
  },
  {
   "cell_type": "code",
   "execution_count": 21,
   "id": "dcfbc953",
   "metadata": {},
   "outputs": [
    {
     "data": {
      "text/latex": [
       "$\\displaystyle 13.0 - 72.0 i$"
      ],
      "text/plain": [
       "13.0 - 72.0*I"
      ]
     },
     "execution_count": 21,
     "metadata": {},
     "output_type": "execute_result"
    }
   ],
   "source": [
    "euler_eq.evalf()\n",
    "#change euler form to complex form"
   ]
  },
  {
   "cell_type": "markdown",
   "id": "c1dac17f",
   "metadata": {},
   "source": [
    "### Practice"
   ]
  },
  {
   "cell_type": "markdown",
   "id": "79baf794",
   "metadata": {},
   "source": [
    "Given that $a = 3+4i$, $b = 2-3i$, and $c = 5e^{2+5i}$"
   ]
  },
  {
   "cell_type": "code",
   "execution_count": 22,
   "id": "e063fad7",
   "metadata": {},
   "outputs": [],
   "source": [
    "a,b,c = symbols(\"a b c\", real=True)  \n",
    "#define the variable\n",
    "\n",
    "a = 3+4*I\n",
    "b = 2-3*I\n",
    "c = 5*exp(2+5*I)"
   ]
  },
  {
   "cell_type": "code",
   "execution_count": 23,
   "id": "8714a3f3",
   "metadata": {},
   "outputs": [
    {
     "data": {
      "text/latex": [
       "$\\displaystyle 3 + 4 i$"
      ],
      "text/plain": [
       "3 + 4*I"
      ]
     },
     "execution_count": 23,
     "metadata": {},
     "output_type": "execute_result"
    }
   ],
   "source": [
    "a"
   ]
  },
  {
   "cell_type": "code",
   "execution_count": 24,
   "id": "f92953e1",
   "metadata": {},
   "outputs": [
    {
     "data": {
      "text/latex": [
       "$\\displaystyle 2 - 3 i$"
      ],
      "text/plain": [
       "2 - 3*I"
      ]
     },
     "execution_count": 24,
     "metadata": {},
     "output_type": "execute_result"
    }
   ],
   "source": [
    "b"
   ]
  },
  {
   "cell_type": "code",
   "execution_count": 25,
   "id": "6b41670d",
   "metadata": {},
   "outputs": [
    {
     "data": {
      "text/latex": [
       "$\\displaystyle 5 e^{2 + 5 i}$"
      ],
      "text/plain": [
       "5*exp(2 + 5*I)"
      ]
     },
     "execution_count": 25,
     "metadata": {},
     "output_type": "execute_result"
    }
   ],
   "source": [
    "c"
   ]
  },
  {
   "cell_type": "markdown",
   "id": "b6bebf7a",
   "metadata": {},
   "source": [
    "1. Find $a+b$ and $a-b$"
   ]
  },
  {
   "cell_type": "code",
   "execution_count": 26,
   "id": "8d4b69c8",
   "metadata": {},
   "outputs": [
    {
     "data": {
      "text/latex": [
       "$\\displaystyle 5 + i$"
      ],
      "text/plain": [
       "5 + I"
      ]
     },
     "execution_count": 26,
     "metadata": {},
     "output_type": "execute_result"
    }
   ],
   "source": [
    "a+b"
   ]
  },
  {
   "cell_type": "code",
   "execution_count": 27,
   "id": "a027176f",
   "metadata": {},
   "outputs": [
    {
     "data": {
      "text/latex": [
       "$\\displaystyle 1 + 7 i$"
      ],
      "text/plain": [
       "1 + 7*I"
      ]
     },
     "execution_count": 27,
     "metadata": {},
     "output_type": "execute_result"
    }
   ],
   "source": [
    "a-b"
   ]
  },
  {
   "cell_type": "markdown",
   "id": "cdd5ff4f",
   "metadata": {},
   "source": [
    "2. Find the complex conjugates of $a$, $b$, $c$"
   ]
  },
  {
   "cell_type": "code",
   "execution_count": 28,
   "id": "1bdbb709",
   "metadata": {},
   "outputs": [
    {
     "data": {
      "text/latex": [
       "$\\displaystyle 3 - 4 i$"
      ],
      "text/plain": [
       "3 - 4*I"
      ]
     },
     "execution_count": 28,
     "metadata": {},
     "output_type": "execute_result"
    }
   ],
   "source": [
    "conjugate(a)"
   ]
  },
  {
   "cell_type": "code",
   "execution_count": 29,
   "id": "cc88d10a",
   "metadata": {},
   "outputs": [
    {
     "data": {
      "text/latex": [
       "$\\displaystyle 2 + 3 i$"
      ],
      "text/plain": [
       "2 + 3*I"
      ]
     },
     "execution_count": 29,
     "metadata": {},
     "output_type": "execute_result"
    }
   ],
   "source": [
    "conjugate(b)"
   ]
  },
  {
   "cell_type": "code",
   "execution_count": 30,
   "id": "7a871a8f",
   "metadata": {},
   "outputs": [
    {
     "data": {
      "text/latex": [
       "$\\displaystyle 5 e^{2 - 5 i}$"
      ],
      "text/plain": [
       "5*exp(2 - 5*I)"
      ]
     },
     "execution_count": 30,
     "metadata": {},
     "output_type": "execute_result"
    }
   ],
   "source": [
    "conjugate(c)"
   ]
  },
  {
   "cell_type": "markdown",
   "id": "ed818b74",
   "metadata": {},
   "source": [
    "3. Find $ab$ and $ba$"
   ]
  },
  {
   "cell_type": "code",
   "execution_count": 36,
   "id": "2bc2872c",
   "metadata": {},
   "outputs": [
    {
     "data": {
      "text/latex": [
       "$\\displaystyle 18.0 - 1.0 i$"
      ],
      "text/plain": [
       "18.0 - 1.0*I"
      ]
     },
     "execution_count": 36,
     "metadata": {},
     "output_type": "execute_result"
    }
   ],
   "source": [
    "( a*b ).evalf()"
   ]
  },
  {
   "cell_type": "code",
   "execution_count": 37,
   "id": "cd2eb0f8",
   "metadata": {},
   "outputs": [
    {
     "data": {
      "text/latex": [
       "$\\displaystyle 18.0 - 1.0 i$"
      ],
      "text/plain": [
       "18.0 - 1.0*I"
      ]
     },
     "execution_count": 37,
     "metadata": {},
     "output_type": "execute_result"
    }
   ],
   "source": [
    "( b*a ).evalf()"
   ]
  },
  {
   "cell_type": "markdown",
   "id": "f2cb8b5d",
   "metadata": {},
   "source": [
    "4. Find $a\\overline{a}$, $b\\overline{b}$ and $c\\overline{c}$"
   ]
  },
  {
   "cell_type": "code",
   "execution_count": 39,
   "id": "1b11e8ed",
   "metadata": {},
   "outputs": [
    {
     "data": {
      "text/latex": [
       "$\\displaystyle 25.0$"
      ],
      "text/plain": [
       "25.0000000000000"
      ]
     },
     "execution_count": 39,
     "metadata": {},
     "output_type": "execute_result"
    }
   ],
   "source": [
    "( a*conjugate(a) ).evalf()"
   ]
  },
  {
   "cell_type": "code",
   "execution_count": 40,
   "id": "b06326a2",
   "metadata": {},
   "outputs": [
    {
     "data": {
      "text/latex": [
       "$\\displaystyle 13.0$"
      ],
      "text/plain": [
       "13.0000000000000"
      ]
     },
     "execution_count": 40,
     "metadata": {},
     "output_type": "execute_result"
    }
   ],
   "source": [
    "( b*conjugate(b) ).evalf()"
   ]
  },
  {
   "cell_type": "code",
   "execution_count": 43,
   "id": "b99e8aa3",
   "metadata": {},
   "outputs": [
    {
     "data": {
      "text/latex": [
       "$\\displaystyle 25 e^{4}$"
      ],
      "text/plain": [
       "25*exp(4)"
      ]
     },
     "execution_count": 43,
     "metadata": {},
     "output_type": "execute_result"
    }
   ],
   "source": [
    "( c*conjugate(c) ).simplify()"
   ]
  },
  {
   "cell_type": "markdown",
   "id": "6ad8cb91",
   "metadata": {},
   "source": [
    "5. Find $a\\div{b}$ and $b\\div{a}$ "
   ]
  },
  {
   "cell_type": "code",
   "execution_count": 48,
   "id": "aafc0a00",
   "metadata": {},
   "outputs": [
    {
     "data": {
      "text/latex": [
       "$\\displaystyle - \\frac{6}{13} + \\frac{17 i}{13}$"
      ],
      "text/plain": [
       "-6/13 + 17*I/13"
      ]
     },
     "execution_count": 48,
     "metadata": {},
     "output_type": "execute_result"
    }
   ],
   "source": [
    "(a/b).simplify()"
   ]
  },
  {
   "cell_type": "code",
   "execution_count": 49,
   "id": "7d075ba2",
   "metadata": {},
   "outputs": [
    {
     "data": {
      "text/latex": [
       "$\\displaystyle - \\frac{6}{25} - \\frac{17 i}{25}$"
      ],
      "text/plain": [
       "-6/25 - 17*I/25"
      ]
     },
     "execution_count": 49,
     "metadata": {},
     "output_type": "execute_result"
    }
   ],
   "source": [
    "(b/a).simplify()"
   ]
  }
 ],
 "metadata": {
  "kernelspec": {
   "display_name": "Python 3 (ipykernel)",
   "language": "python",
   "name": "python3"
  },
  "language_info": {
   "codemirror_mode": {
    "name": "ipython",
    "version": 3
   },
   "file_extension": ".py",
   "mimetype": "text/x-python",
   "name": "python",
   "nbconvert_exporter": "python",
   "pygments_lexer": "ipython3",
   "version": "3.9.13"
  }
 },
 "nbformat": 4,
 "nbformat_minor": 5
}
