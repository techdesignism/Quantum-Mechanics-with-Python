{
 "cells": [
  {
   "cell_type": "markdown",
   "id": "ca8a3424",
   "metadata": {},
   "source": [
    "# Ch1 - Complex Number & Linear Algebra\n"
   ]
  },
  {
   "cell_type": "markdown",
   "id": "c204baac",
   "metadata": {},
   "source": [
    "Complex numbers are the numbers that are expressed in the form of a+ib where, a,b are real numbers and  ‘$i$’ is an imaginary number called “iota”. \n",
    "\n",
    "The value of i = ($\\sqrt{-1}$). For example, $2+3i$ is a complex number, \n",
    "where $2$ is a real number (Re) and $3i$ is an imaginary number (Im). "
   ]
  },
  {
   "cell_type": "markdown",
   "id": "8b2a8977",
   "metadata": {},
   "source": [
    "### Combination of both the real number and imaginary number is a complex number.\n",
    "\n",
    "\n"
   ]
  },
  {
   "cell_type": "markdown",
   "id": "3440b92c",
   "metadata": {},
   "source": [
    "Examples of complex numbers:\n",
    "\n",
    "$1 + j$\n",
    "\n",
    "$-13 – 3i$\n",
    "\n",
    "$0.89 + 1.2i$\n",
    "\n",
    "$\\sqrt{5}$ + $\\sqrt{2} i$\n",
    "\n",
    "An imaginary number is usually represented by ‘i’ or ‘j’, which is equal to $\\sqrt{-1}$. Therefore, the square of the imaginary number gives a negative value. \n",
    "\n",
    "Since, $i$ = $\\sqrt{-1}$, so, $i^2$ = $-1$"
   ]
  },
  {
   "cell_type": "markdown",
   "id": "219a8408",
   "metadata": {},
   "source": [
    "![\"\"](images/Complex-Numbers-in-Maths.png)"
   ]
  },
  {
   "cell_type": "markdown",
   "id": "14027f83",
   "metadata": {},
   "source": [
    "### We can use Sympy to calculate the complex numbers\n",
    "\n",
    "SymPy is a Python library for symbolic mathematics. It aims to become a full-featured computer algebra system (CAS) while keeping the code as simple as possible in order to be comprehensible and easily extensible. SymPy is written entirely in Python."
   ]
  },
  {
   "cell_type": "code",
   "execution_count": 5,
   "id": "052b342c",
   "metadata": {},
   "outputs": [],
   "source": [
    "from sympy import *\n",
    "#import the libraries of sympy\n",
    "\n",
    "a,b,x,y = symbols(\"a b x y\", real=True)  \n",
    "#define the variable\n",
    "\n",
    "complex_num1 = a+b*I\n",
    "complex_num2 = b+a*I\n",
    "#define two complex numbers, we can use \"I\" to represent complex number \"i\""
   ]
  },
  {
   "cell_type": "code",
   "execution_count": 6,
   "id": "d8255e12",
   "metadata": {},
   "outputs": [
    {
     "data": {
      "text/latex": [
       "$\\displaystyle a + i b$"
      ],
      "text/plain": [
       "a + I*b"
      ]
     },
     "execution_count": 6,
     "metadata": {},
     "output_type": "execute_result"
    }
   ],
   "source": [
    "complex_num1"
   ]
  },
  {
   "cell_type": "code",
   "execution_count": 7,
   "id": "6e26b12e",
   "metadata": {},
   "outputs": [
    {
     "data": {
      "text/latex": [
       "$\\displaystyle i a + b$"
      ],
      "text/plain": [
       "I*a + b"
      ]
     },
     "execution_count": 7,
     "metadata": {},
     "output_type": "execute_result"
    }
   ],
   "source": [
    "complex_num2"
   ]
  },
  {
   "cell_type": "code",
   "execution_count": null,
   "id": "dac3ad0c",
   "metadata": {},
   "outputs": [],
   "source": []
  }
 ],
 "metadata": {
  "kernelspec": {
   "display_name": "Python 3 (ipykernel)",
   "language": "python",
   "name": "python3"
  },
  "language_info": {
   "codemirror_mode": {
    "name": "ipython",
    "version": 3
   },
   "file_extension": ".py",
   "mimetype": "text/x-python",
   "name": "python",
   "nbconvert_exporter": "python",
   "pygments_lexer": "ipython3",
   "version": "3.9.13"
  }
 },
 "nbformat": 4,
 "nbformat_minor": 5
}
