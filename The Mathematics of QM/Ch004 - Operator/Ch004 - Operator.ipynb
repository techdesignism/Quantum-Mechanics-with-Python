{
 "cells": [
  {
   "cell_type": "markdown",
   "id": "dd20bcd8",
   "metadata": {},
   "source": [
    "# Ch004 - Operator\n",
    "\n",
    "Operators dominate this chapter. When you finish this chapter, you should understand the meaning of a linear operator, the identity operator, inverse operators, Hermitian operators, unitary operators, the commutator, a diagonal operator, and the determinant of an operator. You need to understand the meaning of eigenvalues and eigenvectors. You need to know how to solve the eigenvalue/eigenvector problem. You want to know how to diagonalize an operator. You want to know how to simultaneously diagonalize two operators. You want to understand the meaning of degenerate operators. The reason to understand simultaneous diagonalization is degenerate operators.\n",
    "\n",
    "![''](images/yy5r45u45ru.png)\n",
    "\n",
    "![''](images/dkjxnksdjg849y948y.png)\n",
    "\n",
    "![''](images/dffgjfgj.png)"
   ]
  },
  {
   "cell_type": "code",
   "execution_count": 32,
   "id": "9dccb415",
   "metadata": {},
   "outputs": [],
   "source": [
    "from sympy import *\n",
    "#import the libraries of sympy\n",
    "\n",
    "\n",
    "L = Matrix([\n",
    "    [0,-I,0],\n",
    "    [I,0,-I],\n",
    "    [0,I,0]\n",
    "])"
   ]
  },
  {
   "cell_type": "code",
   "execution_count": 33,
   "id": "ba72a6b4",
   "metadata": {},
   "outputs": [
    {
     "data": {
      "text/latex": [
       "$\\displaystyle \\left[\\begin{matrix}0 & - i & 0\\\\i & 0 & - i\\\\0 & i & 0\\end{matrix}\\right]$"
      ],
      "text/plain": [
       "Matrix([\n",
       "[0, -I,  0],\n",
       "[I,  0, -I],\n",
       "[0,  I,  0]])"
      ]
     },
     "execution_count": 33,
     "metadata": {},
     "output_type": "execute_result"
    }
   ],
   "source": [
    "L"
   ]
  },
  {
   "cell_type": "code",
   "execution_count": 34,
   "id": "07393d70",
   "metadata": {},
   "outputs": [
    {
     "data": {
      "text/latex": [
       "$\\displaystyle \\left[\\begin{matrix}f_{0}\\\\f_{1}\\\\f_{2}\\end{matrix}\\right]$"
      ],
      "text/plain": [
       "Matrix([\n",
       "[f0],\n",
       "[f1],\n",
       "[f2]])"
      ]
     },
     "execution_count": 34,
     "metadata": {},
     "output_type": "execute_result"
    }
   ],
   "source": [
    "f = Matrix(3,1,symbols('f0:3'))\n",
    "f"
   ]
  },
  {
   "cell_type": "code",
   "execution_count": 35,
   "id": "d53e7c53",
   "metadata": {},
   "outputs": [
    {
     "data": {
      "text/latex": [
       "$\\displaystyle \\left[\\begin{matrix}g_{0}\\\\g_{1}\\\\g_{2}\\end{matrix}\\right]$"
      ],
      "text/plain": [
       "Matrix([\n",
       "[g0],\n",
       "[g1],\n",
       "[g2]])"
      ]
     },
     "execution_count": 35,
     "metadata": {},
     "output_type": "execute_result"
    }
   ],
   "source": [
    "g = Matrix(3,1,symbols('g0:3'))\n",
    "g"
   ]
  },
  {
   "cell_type": "code",
   "execution_count": 36,
   "id": "d3d57bf5",
   "metadata": {},
   "outputs": [
    {
     "data": {
      "text/latex": [
       "$\\displaystyle t$"
      ],
      "text/plain": [
       "t"
      ]
     },
     "execution_count": 36,
     "metadata": {},
     "output_type": "execute_result"
    }
   ],
   "source": [
    "t = symbols('t')\n",
    "t"
   ]
  },
  {
   "cell_type": "code",
   "execution_count": 37,
   "id": "167e9611",
   "metadata": {},
   "outputs": [
    {
     "data": {
      "text/latex": [
       "$\\displaystyle \\left[\\begin{matrix}i \\left(- f_{1} - g_{1}\\right)\\\\i \\left(f_{0} - f_{2} + g_{0} - g_{2}\\right)\\\\i \\left(f_{1} + g_{1}\\right)\\end{matrix}\\right]$"
      ],
      "text/plain": [
       "Matrix([\n",
       "[         I*(-f1 - g1)],\n",
       "[I*(f0 - f2 + g0 - g2)],\n",
       "[          I*(f1 + g1)]])"
      ]
     },
     "execution_count": 37,
     "metadata": {},
     "output_type": "execute_result"
    }
   ],
   "source": [
    "r1 = (L*(f+g) )\n",
    "r1.simplify()\n",
    "r1"
   ]
  },
  {
   "cell_type": "code",
   "execution_count": 38,
   "id": "41a04cca",
   "metadata": {},
   "outputs": [
    {
     "data": {
      "text/latex": [
       "$\\displaystyle \\left[\\begin{matrix}i \\left(- f_{1} - g_{1}\\right)\\\\i \\left(f_{0} - f_{2} + g_{0} - g_{2}\\right)\\\\i \\left(f_{1} + g_{1}\\right)\\end{matrix}\\right]$"
      ],
      "text/plain": [
       "Matrix([\n",
       "[         I*(-f1 - g1)],\n",
       "[I*(f0 - f2 + g0 - g2)],\n",
       "[          I*(f1 + g1)]])"
      ]
     },
     "execution_count": 38,
     "metadata": {},
     "output_type": "execute_result"
    }
   ],
   "source": [
    "r2 = (L*f+L*g) \n",
    "r2.simplify()\n",
    "r2"
   ]
  },
  {
   "cell_type": "code",
   "execution_count": 39,
   "id": "14a9f20e",
   "metadata": {},
   "outputs": [
    {
     "data": {
      "text/plain": [
       "True"
      ]
     },
     "execution_count": 39,
     "metadata": {},
     "output_type": "execute_result"
    }
   ],
   "source": [
    "r1==r2"
   ]
  },
  {
   "cell_type": "code",
   "execution_count": 40,
   "id": "e4230de2",
   "metadata": {},
   "outputs": [
    {
     "data": {
      "text/latex": [
       "$\\displaystyle \\left[\\begin{matrix}- i f_{1} t\\\\i t \\left(f_{0} - f_{2}\\right)\\\\i f_{1} t\\end{matrix}\\right]$"
      ],
      "text/plain": [
       "Matrix([\n",
       "[      -I*f1*t],\n",
       "[I*t*(f0 - f2)],\n",
       "[       I*f1*t]])"
      ]
     },
     "execution_count": 40,
     "metadata": {},
     "output_type": "execute_result"
    }
   ],
   "source": [
    "r1 = L*(t*f)\n",
    "r1.simplify()\n",
    "r1"
   ]
  },
  {
   "cell_type": "code",
   "execution_count": 41,
   "id": "6c5710fb",
   "metadata": {},
   "outputs": [
    {
     "data": {
      "text/latex": [
       "$\\displaystyle \\left[\\begin{matrix}- i f_{1} t\\\\i t \\left(f_{0} - f_{2}\\right)\\\\i f_{1} t\\end{matrix}\\right]$"
      ],
      "text/plain": [
       "Matrix([\n",
       "[      -I*f1*t],\n",
       "[I*t*(f0 - f2)],\n",
       "[       I*f1*t]])"
      ]
     },
     "execution_count": 41,
     "metadata": {},
     "output_type": "execute_result"
    }
   ],
   "source": [
    "r2 = t*(L*f)\n",
    "r2.simplify()\n",
    "r2"
   ]
  },
  {
   "cell_type": "code",
   "execution_count": 42,
   "id": "c398d264",
   "metadata": {},
   "outputs": [
    {
     "data": {
      "text/plain": [
       "True"
      ]
     },
     "execution_count": 42,
     "metadata": {},
     "output_type": "execute_result"
    }
   ],
   "source": [
    "r1==r2"
   ]
  },
  {
   "cell_type": "markdown",
   "id": "ec95aa53",
   "metadata": {},
   "source": [
    "# Identity Matrix\n",
    "\n",
    "We just mentioned the \"Identity Matrix\". It is the matrix equivalent of the number \"1\":\n",
    "\n",
    "![''](images/equation-1-general-expression-of-an-identity-matrix.png)\n",
    "\n",
    "\n",
    "Multiplying an identity matrix times another matrix\n",
    "\n",
    "![''](images/latex-image-be9622ad9781b28e9f084dd6be902056-1x.jpg)\n",
    "\n",
    "\n",
    "The identity operator is the analogy of “1” in the real number system. One times a number is the\n",
    "original number. This problem introduces the identity operator but also intends to persuade you\n",
    "that any legitimate multiplication by the identity operator results in the original object. In $C^3$\n",
    "the identity operator is\n",
    "\n",
    "![''](images/jtfgj6565.png)"
   ]
  },
  {
   "cell_type": "code",
   "execution_count": 43,
   "id": "8cc83c20",
   "metadata": {},
   "outputs": [
    {
     "data": {
      "text/latex": [
       "$\\displaystyle \\left[\\begin{matrix}1 & 0 & 0\\\\0 & 1 & 0\\\\0 & 0 & 1\\end{matrix}\\right]$"
      ],
      "text/plain": [
       "Matrix([\n",
       "[1, 0, 0],\n",
       "[0, 1, 0],\n",
       "[0, 0, 1]])"
      ]
     },
     "execution_count": 43,
     "metadata": {},
     "output_type": "execute_result"
    }
   ],
   "source": [
    "I3 = eye(3)\n",
    "I3"
   ]
  },
  {
   "cell_type": "code",
   "execution_count": 46,
   "id": "98b31e28",
   "metadata": {},
   "outputs": [
    {
     "data": {
      "text/latex": [
       "$\\displaystyle \\left[\\begin{matrix}b_{1}\\\\b_{2}\\\\b_{3}\\end{matrix}\\right]$"
      ],
      "text/plain": [
       "Matrix([\n",
       "[b1],\n",
       "[b2],\n",
       "[b3]])"
      ]
     },
     "execution_count": 46,
     "metadata": {},
     "output_type": "execute_result"
    }
   ],
   "source": [
    "v = Matrix(3,1,symbols('b1:4'))\n",
    "v"
   ]
  },
  {
   "cell_type": "code",
   "execution_count": 54,
   "id": "bb7be205",
   "metadata": {},
   "outputs": [
    {
     "data": {
      "text/latex": [
       "$\\displaystyle \\left[\\begin{matrix}a_{11} & a_{12} & a_{13}\\\\a_{21} & a_{22} & a_{23}\\\\a_{31} & a_{32} & a_{33}\\end{matrix}\\right]$"
      ],
      "text/plain": [
       "Matrix([\n",
       "[a11, a12, a13],\n",
       "[a21, a22, a23],\n",
       "[a31, a32, a33]])"
      ]
     },
     "execution_count": 54,
     "metadata": {},
     "output_type": "execute_result"
    }
   ],
   "source": [
    "A = Matrix(3,3,symbols('a1:4(1:4)'))\n",
    "A"
   ]
  },
  {
   "cell_type": "code",
   "execution_count": 47,
   "id": "b376cb07",
   "metadata": {},
   "outputs": [
    {
     "data": {
      "text/latex": [
       "$\\displaystyle \\left[\\begin{matrix}b_{1}\\\\b_{2}\\\\b_{3}\\end{matrix}\\right]$"
      ],
      "text/plain": [
       "Matrix([\n",
       "[b1],\n",
       "[b2],\n",
       "[b3]])"
      ]
     },
     "execution_count": 47,
     "metadata": {},
     "output_type": "execute_result"
    }
   ],
   "source": [
    "I3*v"
   ]
  },
  {
   "cell_type": "code",
   "execution_count": 49,
   "id": "5f01a33a",
   "metadata": {},
   "outputs": [
    {
     "data": {
      "text/latex": [
       "$\\displaystyle \\left[\\begin{matrix}\\overline{b_{1}} & \\overline{b_{2}} & \\overline{b_{3}}\\end{matrix}\\right]$"
      ],
      "text/plain": [
       "Matrix([[conjugate(b1), conjugate(b2), conjugate(b3)]])"
      ]
     },
     "execution_count": 49,
     "metadata": {},
     "output_type": "execute_result"
    }
   ],
   "source": [
    "conjugate(v.T)"
   ]
  },
  {
   "cell_type": "code",
   "execution_count": 50,
   "id": "172f673e",
   "metadata": {},
   "outputs": [
    {
     "data": {
      "text/latex": [
       "$\\displaystyle \\left[\\begin{matrix}\\overline{b_{1}} & \\overline{b_{2}} & \\overline{b_{3}}\\end{matrix}\\right]$"
      ],
      "text/plain": [
       "Matrix([[conjugate(b1), conjugate(b2), conjugate(b3)]])"
      ]
     },
     "execution_count": 50,
     "metadata": {},
     "output_type": "execute_result"
    }
   ],
   "source": [
    "conjugate(v.T)*I3"
   ]
  },
  {
   "cell_type": "code",
   "execution_count": 55,
   "id": "661e8853",
   "metadata": {},
   "outputs": [
    {
     "data": {
      "text/latex": [
       "$\\displaystyle \\left[\\begin{matrix}a_{11} & a_{12} & a_{13}\\\\a_{21} & a_{22} & a_{23}\\\\a_{31} & a_{32} & a_{33}\\end{matrix}\\right]$"
      ],
      "text/plain": [
       "Matrix([\n",
       "[a11, a12, a13],\n",
       "[a21, a22, a23],\n",
       "[a31, a32, a33]])"
      ]
     },
     "execution_count": 55,
     "metadata": {},
     "output_type": "execute_result"
    }
   ],
   "source": [
    "I3*A"
   ]
  },
  {
   "cell_type": "code",
   "execution_count": 56,
   "id": "69adb897",
   "metadata": {},
   "outputs": [
    {
     "data": {
      "text/latex": [
       "$\\displaystyle \\left[\\begin{matrix}a_{11} & a_{12} & a_{13}\\\\a_{21} & a_{22} & a_{23}\\\\a_{31} & a_{32} & a_{33}\\end{matrix}\\right]$"
      ],
      "text/plain": [
       "Matrix([\n",
       "[a11, a12, a13],\n",
       "[a21, a22, a23],\n",
       "[a31, a32, a33]])"
      ]
     },
     "execution_count": 56,
     "metadata": {},
     "output_type": "execute_result"
    }
   ],
   "source": [
    "A*I3"
   ]
  },
  {
   "cell_type": "markdown",
   "id": "0666275e",
   "metadata": {},
   "source": [
    "![''](images/fgjfg56i56i.png)\n",
    "\n",
    "![''](images/dffgjf.png)\n",
    "\n",
    "![''](images/fgjfgjfj.png)\n",
    "\n",
    "# Determinant\n",
    "\n",
    "![''](images/detersdffgj.png)"
   ]
  },
  {
   "cell_type": "code",
   "execution_count": 58,
   "id": "45e16f71",
   "metadata": {},
   "outputs": [
    {
     "data": {
      "text/latex": [
       "$\\displaystyle \\left[\\begin{matrix}1 - 2 i & 2 + 3 i\\\\3 - i & 4 + 2 i\\end{matrix}\\right]$"
      ],
      "text/plain": [
       "Matrix([\n",
       "[1 - 2*I, 2 + 3*I],\n",
       "[  3 - I, 4 + 2*I]])"
      ]
     },
     "execution_count": 58,
     "metadata": {},
     "output_type": "execute_result"
    }
   ],
   "source": [
    "A = Matrix([\n",
    "    [1-2*I, 2+3*I],\n",
    "    [3-I,4+2*I]\n",
    "])\n",
    "A"
   ]
  },
  {
   "cell_type": "code",
   "execution_count": 59,
   "id": "7cede96a",
   "metadata": {},
   "outputs": [
    {
     "data": {
      "text/latex": [
       "$\\displaystyle \\left[\\begin{matrix}2 & -4 & 7\\\\8 & -3 & -5\\\\-4 & 9 & 1\\end{matrix}\\right]$"
      ],
      "text/plain": [
       "Matrix([\n",
       "[ 2, -4,  7],\n",
       "[ 8, -3, -5],\n",
       "[-4,  9,  1]])"
      ]
     },
     "execution_count": 59,
     "metadata": {},
     "output_type": "execute_result"
    }
   ],
   "source": [
    "C = Matrix([\n",
    "    [2,-4,7],\n",
    "    [8,-3,-5],\n",
    "    [-4,9,1]\n",
    "])\n",
    "C"
   ]
  },
  {
   "cell_type": "code",
   "execution_count": 60,
   "id": "92319c46",
   "metadata": {},
   "outputs": [
    {
     "data": {
      "text/latex": [
       "$\\displaystyle -1 - 13 i$"
      ],
      "text/plain": [
       "-1 - 13*I"
      ]
     },
     "execution_count": 60,
     "metadata": {},
     "output_type": "execute_result"
    }
   ],
   "source": [
    "A.det()"
   ]
  },
  {
   "cell_type": "code",
   "execution_count": 61,
   "id": "74937aca",
   "metadata": {},
   "outputs": [
    {
     "data": {
      "text/latex": [
       "$\\displaystyle 456$"
      ],
      "text/plain": [
       "456"
      ]
     },
     "execution_count": 61,
     "metadata": {},
     "output_type": "execute_result"
    }
   ],
   "source": [
    "C.det()"
   ]
  },
  {
   "cell_type": "markdown",
   "id": "badf389e",
   "metadata": {},
   "source": [
    "![''](images/fjcfgjfgjfgj.png)"
   ]
  },
  {
   "cell_type": "markdown",
   "id": "0e709d9a",
   "metadata": {},
   "source": [
    "# Commutator\n",
    "\n",
    "$[A, B] = AB - BA$\n",
    "\n",
    "The object $[A, B ]$ is called a commutator.\n",
    "\n",
    "If $[ A, B ]$ = 0, the operators A and B are said to commute."
   ]
  },
  {
   "cell_type": "code",
   "execution_count": 66,
   "id": "5e699cc1",
   "metadata": {},
   "outputs": [
    {
     "data": {
      "text/latex": [
       "$\\displaystyle \\left[\\begin{matrix}1 + i & 0\\\\0 & 1 - i\\end{matrix}\\right]$"
      ],
      "text/plain": [
       "Matrix([\n",
       "[1 + I,     0],\n",
       "[    0, 1 - I]])"
      ]
     },
     "execution_count": 66,
     "metadata": {},
     "output_type": "execute_result"
    }
   ],
   "source": [
    "A = Matrix([\n",
    "    [1+I,0],\n",
    "    [0,1-I]\n",
    "])\n",
    "A"
   ]
  },
  {
   "cell_type": "code",
   "execution_count": 67,
   "id": "1ec729a7",
   "metadata": {},
   "outputs": [
    {
     "data": {
      "text/latex": [
       "$\\displaystyle \\left[\\begin{matrix}-1 - i & 0\\\\0 & -1 + i\\end{matrix}\\right]$"
      ],
      "text/plain": [
       "Matrix([\n",
       "[-1 - I,      0],\n",
       "[     0, -1 + I]])"
      ]
     },
     "execution_count": 67,
     "metadata": {},
     "output_type": "execute_result"
    }
   ],
   "source": [
    "B = Matrix([\n",
    "    [-1-I,0],\n",
    "    [0,-1+I]\n",
    "])\n",
    "B"
   ]
  },
  {
   "cell_type": "code",
   "execution_count": 68,
   "id": "ad589487",
   "metadata": {},
   "outputs": [
    {
     "data": {
      "text/latex": [
       "$\\displaystyle \\left[\\begin{matrix}0 & 0\\\\0 & 0\\end{matrix}\\right]$"
      ],
      "text/plain": [
       "Matrix([\n",
       "[0, 0],\n",
       "[0, 0]])"
      ]
     },
     "execution_count": 68,
     "metadata": {},
     "output_type": "execute_result"
    }
   ],
   "source": [
    "A*B-B*A"
   ]
  },
  {
   "cell_type": "markdown",
   "id": "4f746344",
   "metadata": {},
   "source": [
    "# Diagonal operators\n",
    "\n",
    "The operators in this case are diagonal operators. A diagonal operator is a matrix that has non-zero elements only on the principal diagonal. The identity matrix is another example of a diagonal operator. All diagonal operators commute."
   ]
  },
  {
   "cell_type": "code",
   "execution_count": 85,
   "id": "61fb743d",
   "metadata": {},
   "outputs": [
    {
     "data": {
      "text/latex": [
       "$\\displaystyle \\left[\\begin{matrix}a_{0} & 0 & 0 & 0 & 0\\\\0 & a_{1} & 0 & 0 & 0\\\\0 & 0 & a_{2} & 0 & 0\\\\0 & 0 & 0 & a_{3} & 0\\\\0 & 0 & 0 & 0 & a_{4}\\end{matrix}\\right]$"
      ],
      "text/plain": [
       "Matrix([\n",
       "[a0,  0,  0,  0,  0],\n",
       "[ 0, a1,  0,  0,  0],\n",
       "[ 0,  0, a2,  0,  0],\n",
       "[ 0,  0,  0, a3,  0],\n",
       "[ 0,  0,  0,  0, a4]])"
      ]
     },
     "execution_count": 85,
     "metadata": {},
     "output_type": "execute_result"
    }
   ],
   "source": [
    "A = Matrix(5,1,symbols('a0:5'))\n",
    "A = diag(*A)\n",
    "A"
   ]
  },
  {
   "cell_type": "code",
   "execution_count": 86,
   "id": "732ddef0",
   "metadata": {},
   "outputs": [
    {
     "data": {
      "text/latex": [
       "$\\displaystyle \\left[\\begin{matrix}b_{0} & 0 & 0 & 0 & 0\\\\0 & b_{1} & 0 & 0 & 0\\\\0 & 0 & b_{2} & 0 & 0\\\\0 & 0 & 0 & b_{3} & 0\\\\0 & 0 & 0 & 0 & b_{4}\\end{matrix}\\right]$"
      ],
      "text/plain": [
       "Matrix([\n",
       "[b0,  0,  0,  0,  0],\n",
       "[ 0, b1,  0,  0,  0],\n",
       "[ 0,  0, b2,  0,  0],\n",
       "[ 0,  0,  0, b3,  0],\n",
       "[ 0,  0,  0,  0, b4]])"
      ]
     },
     "execution_count": 86,
     "metadata": {},
     "output_type": "execute_result"
    }
   ],
   "source": [
    "B = Matrix(5,1,symbols('b0:5'))\n",
    "B = diag(*B)\n",
    "B"
   ]
  },
  {
   "cell_type": "code",
   "execution_count": 87,
   "id": "1904b3b1",
   "metadata": {},
   "outputs": [
    {
     "data": {
      "text/latex": [
       "$\\displaystyle \\left[\\begin{matrix}0 & 0 & 0 & 0 & 0\\\\0 & 0 & 0 & 0 & 0\\\\0 & 0 & 0 & 0 & 0\\\\0 & 0 & 0 & 0 & 0\\\\0 & 0 & 0 & 0 & 0\\end{matrix}\\right]$"
      ],
      "text/plain": [
       "Matrix([\n",
       "[0, 0, 0, 0, 0],\n",
       "[0, 0, 0, 0, 0],\n",
       "[0, 0, 0, 0, 0],\n",
       "[0, 0, 0, 0, 0],\n",
       "[0, 0, 0, 0, 0]])"
      ]
     },
     "execution_count": 87,
     "metadata": {},
     "output_type": "execute_result"
    }
   ],
   "source": [
    "A*B-B*A"
   ]
  },
  {
   "cell_type": "code",
   "execution_count": null,
   "id": "041f4b78",
   "metadata": {},
   "outputs": [],
   "source": []
  }
 ],
 "metadata": {
  "kernelspec": {
   "display_name": "Python 3 (ipykernel)",
   "language": "python",
   "name": "python3"
  },
  "language_info": {
   "codemirror_mode": {
    "name": "ipython",
    "version": 3
   },
   "file_extension": ".py",
   "mimetype": "text/x-python",
   "name": "python",
   "nbconvert_exporter": "python",
   "pygments_lexer": "ipython3",
   "version": "3.9.13"
  }
 },
 "nbformat": 4,
 "nbformat_minor": 5
}
